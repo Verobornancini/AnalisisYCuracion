{
 "cells": [
  {
   "cell_type": "markdown",
   "metadata": {},
   "source": [
    "# Limpieza de datos"
   ]
  },
  {
   "cell_type": "markdown",
   "metadata": {},
   "source": [
    "* Vamos a aplicar el [checklist del Banco Mundial](https://dimewiki.worldbank.org/wiki/Checklist:_Data_Cleaning) en Python usando el [SciPy stack](https://www.scipy.org/stackspec.html), principalmente pandas"
   ]
  },
  {
   "cell_type": "markdown",
   "metadata": {
    "colab_type": "text",
    "id": "0Z9ck1e6FMXn"
   },
   "source": [
    "## 0. Prerequisitos"
   ]
  },
  {
   "cell_type": "code",
   "execution_count": 1,
   "metadata": {
    "colab": {
     "base_uri": "https://localhost:8080/",
     "height": 51
    },
    "colab_type": "code",
    "id": "53S0ap0UFLRz",
    "outputId": "6da9c8d6-56dd-4133-94da-e4308d268e94"
   },
   "outputs": [
    {
     "name": "stderr",
     "output_type": "stream",
     "text": [
      "El sistema no puede encontrar el archivo especificado.\n"
     ]
    }
   ],
   "source": [
    "# Para que la notebook corra tanto en jupyter como en colab.\n",
    "# NO ES RECOMENDADO realizar pip install desde un notebook.\n",
    "\n",
    "import sys\n",
    "in_colab = 'google.colab' in sys.modules\n",
    "\n",
    "if in_colab:\n",
    "  BASE_DIR = \"https://github.com/DiploDatos/AnalisisYCuracion/raw/master/\"\n",
    "else:\n",
    "  BASE_DIR = \"..\"\n",
    "if 'ftfy' not in sys.modules:\n",
    "    !pip install 'ftfy<5.6'"
   ]
  },
  {
   "cell_type": "markdown",
   "metadata": {},
   "source": [
    "# 1. Importando los datos"
   ]
  },
  {
   "cell_type": "markdown",
   "metadata": {
    "colab_type": "text",
    "id": "uD9wmnXUYStG"
   },
   "source": [
    "# 1.1. Verificar que no hay problemas en la importación"
   ]
  },
  {
   "cell_type": "code",
   "execution_count": 2,
   "metadata": {
    "colab": {},
    "colab_type": "code",
    "id": "VYFnOBCKYStI"
   },
   "outputs": [],
   "source": [
    "import pandas as pd\n",
    "\n",
    "# para que los numeros flotantes me los muestre solo con dos decimales\n",
    "pd.options.display.float_format = '{:.2f}'.format"
   ]
  },
  {
   "cell_type": "code",
   "execution_count": 3,
   "metadata": {
    "colab": {},
    "colab_type": "code",
    "id": "b-_bMXxOYStW"
   },
   "outputs": [],
   "source": [
    "# Importamos datos de proyectos de Kickstarter la plataforma de Crowdsourcing\n",
    "\n",
    "kickstarter_2018 = pd.read_csv(BASE_DIR + \"/input/kickstarter-projects/ks-projects-201801.csv\")"
   ]
  },
  {
   "cell_type": "code",
   "execution_count": 4,
   "metadata": {
    "colab": {
     "base_uri": "https://localhost:8080/",
     "height": 3006
    },
    "colab_type": "code",
    "id": "etZ09t5MYStZ",
    "outputId": "d56bf1bb-e304-4dbe-a899-39b2df1970e6"
   },
   "outputs": [
    {
     "data": {
      "text/html": [
       "<div>\n",
       "<style>\n",
       "    .dataframe thead tr:only-child th {\n",
       "        text-align: right;\n",
       "    }\n",
       "\n",
       "    .dataframe thead th {\n",
       "        text-align: left;\n",
       "    }\n",
       "\n",
       "    .dataframe tbody tr th {\n",
       "        vertical-align: top;\n",
       "    }\n",
       "</style>\n",
       "<table border=\"1\" class=\"dataframe\">\n",
       "  <thead>\n",
       "    <tr style=\"text-align: right;\">\n",
       "      <th></th>\n",
       "      <th>ID</th>\n",
       "      <th>name</th>\n",
       "      <th>category</th>\n",
       "      <th>main_category</th>\n",
       "      <th>currency</th>\n",
       "      <th>deadline</th>\n",
       "      <th>goal</th>\n",
       "      <th>launched</th>\n",
       "      <th>pledged</th>\n",
       "      <th>state</th>\n",
       "      <th>backers</th>\n",
       "      <th>country</th>\n",
       "      <th>usd pledged</th>\n",
       "      <th>usd_pledged_real</th>\n",
       "      <th>usd_goal_real</th>\n",
       "    </tr>\n",
       "  </thead>\n",
       "  <tbody>\n",
       "    <tr>\n",
       "      <th>0</th>\n",
       "      <td>1000002330</td>\n",
       "      <td>The Songs of Adelaide &amp; Abullah</td>\n",
       "      <td>Poetry</td>\n",
       "      <td>Publishing</td>\n",
       "      <td>GBP</td>\n",
       "      <td>2015-10-09</td>\n",
       "      <td>1000.00</td>\n",
       "      <td>2015-08-11 12:12:28</td>\n",
       "      <td>0.00</td>\n",
       "      <td>failed</td>\n",
       "      <td>0</td>\n",
       "      <td>GB</td>\n",
       "      <td>0.00</td>\n",
       "      <td>0.00</td>\n",
       "      <td>1533.95</td>\n",
       "    </tr>\n",
       "    <tr>\n",
       "      <th>1</th>\n",
       "      <td>1000003930</td>\n",
       "      <td>Greeting From Earth: ZGAC Arts Capsule For ET</td>\n",
       "      <td>Narrative Film</td>\n",
       "      <td>Film &amp; Video</td>\n",
       "      <td>USD</td>\n",
       "      <td>2017-11-01</td>\n",
       "      <td>30000.00</td>\n",
       "      <td>2017-09-02 04:43:57</td>\n",
       "      <td>2421.00</td>\n",
       "      <td>failed</td>\n",
       "      <td>15</td>\n",
       "      <td>US</td>\n",
       "      <td>100.00</td>\n",
       "      <td>2421.00</td>\n",
       "      <td>30000.00</td>\n",
       "    </tr>\n",
       "    <tr>\n",
       "      <th>2</th>\n",
       "      <td>1000004038</td>\n",
       "      <td>Where is Hank?</td>\n",
       "      <td>Narrative Film</td>\n",
       "      <td>Film &amp; Video</td>\n",
       "      <td>USD</td>\n",
       "      <td>2013-02-26</td>\n",
       "      <td>45000.00</td>\n",
       "      <td>2013-01-12 00:20:50</td>\n",
       "      <td>220.00</td>\n",
       "      <td>failed</td>\n",
       "      <td>3</td>\n",
       "      <td>US</td>\n",
       "      <td>220.00</td>\n",
       "      <td>220.00</td>\n",
       "      <td>45000.00</td>\n",
       "    </tr>\n",
       "    <tr>\n",
       "      <th>3</th>\n",
       "      <td>1000007540</td>\n",
       "      <td>ToshiCapital Rekordz Needs Help to Complete Album</td>\n",
       "      <td>Music</td>\n",
       "      <td>Music</td>\n",
       "      <td>USD</td>\n",
       "      <td>2012-04-16</td>\n",
       "      <td>5000.00</td>\n",
       "      <td>2012-03-17 03:24:11</td>\n",
       "      <td>1.00</td>\n",
       "      <td>failed</td>\n",
       "      <td>1</td>\n",
       "      <td>US</td>\n",
       "      <td>1.00</td>\n",
       "      <td>1.00</td>\n",
       "      <td>5000.00</td>\n",
       "    </tr>\n",
       "    <tr>\n",
       "      <th>4</th>\n",
       "      <td>1000011046</td>\n",
       "      <td>Community Film Project: The Art of Neighborhoo...</td>\n",
       "      <td>Film &amp; Video</td>\n",
       "      <td>Film &amp; Video</td>\n",
       "      <td>USD</td>\n",
       "      <td>2015-08-29</td>\n",
       "      <td>19500.00</td>\n",
       "      <td>2015-07-04 08:35:03</td>\n",
       "      <td>1283.00</td>\n",
       "      <td>canceled</td>\n",
       "      <td>14</td>\n",
       "      <td>US</td>\n",
       "      <td>1283.00</td>\n",
       "      <td>1283.00</td>\n",
       "      <td>19500.00</td>\n",
       "    </tr>\n",
       "  </tbody>\n",
       "</table>\n",
       "</div>"
      ],
      "text/plain": [
       "           ID                                               name  \\\n",
       "0  1000002330                    The Songs of Adelaide & Abullah   \n",
       "1  1000003930      Greeting From Earth: ZGAC Arts Capsule For ET   \n",
       "2  1000004038                                     Where is Hank?   \n",
       "3  1000007540  ToshiCapital Rekordz Needs Help to Complete Album   \n",
       "4  1000011046  Community Film Project: The Art of Neighborhoo...   \n",
       "\n",
       "         category main_category currency    deadline     goal  \\\n",
       "0          Poetry    Publishing      GBP  2015-10-09  1000.00   \n",
       "1  Narrative Film  Film & Video      USD  2017-11-01 30000.00   \n",
       "2  Narrative Film  Film & Video      USD  2013-02-26 45000.00   \n",
       "3           Music         Music      USD  2012-04-16  5000.00   \n",
       "4    Film & Video  Film & Video      USD  2015-08-29 19500.00   \n",
       "\n",
       "              launched  pledged     state  backers country  usd pledged  \\\n",
       "0  2015-08-11 12:12:28     0.00    failed        0      GB         0.00   \n",
       "1  2017-09-02 04:43:57  2421.00    failed       15      US       100.00   \n",
       "2  2013-01-12 00:20:50   220.00    failed        3      US       220.00   \n",
       "3  2012-03-17 03:24:11     1.00    failed        1      US         1.00   \n",
       "4  2015-07-04 08:35:03  1283.00  canceled       14      US      1283.00   \n",
       "\n",
       "   usd_pledged_real  usd_goal_real  \n",
       "0              0.00        1533.95  \n",
       "1           2421.00       30000.00  \n",
       "2            220.00       45000.00  \n",
       "3              1.00        5000.00  \n",
       "4           1283.00       19500.00  "
      ]
     },
     "execution_count": 4,
     "metadata": {},
     "output_type": "execute_result"
    }
   ],
   "source": [
    "kickstarter_2018[:5]"
   ]
  },
  {
   "cell_type": "code",
   "execution_count": 5,
   "metadata": {
    "colab": {},
    "colab_type": "code",
    "id": "Upvlit8QYStd"
   },
   "outputs": [],
   "source": [
    "# Set seed for reproducibility\n",
    "\n",
    "# Al fijar la semilla no habrá azar.\n",
    "# Esto es algo necesario cuando queremos \"reproducir valores aleatorios\".\n",
    "\n",
    "import numpy as np\n",
    "np.random.seed(0)"
   ]
  },
  {
   "cell_type": "code",
   "execution_count": 6,
   "metadata": {
    "colab": {
     "base_uri": "https://localhost:8080/",
     "height": 306
    },
    "colab_type": "code",
    "id": "vDQdf2xEYStf",
    "outputId": "13b0c4e1-4188-42a5-9ce7-70590ed4255a"
   },
   "outputs": [
    {
     "data": {
      "text/html": [
       "<div>\n",
       "<style>\n",
       "    .dataframe thead tr:only-child th {\n",
       "        text-align: right;\n",
       "    }\n",
       "\n",
       "    .dataframe thead th {\n",
       "        text-align: left;\n",
       "    }\n",
       "\n",
       "    .dataframe tbody tr th {\n",
       "        vertical-align: top;\n",
       "    }\n",
       "</style>\n",
       "<table border=\"1\" class=\"dataframe\">\n",
       "  <thead>\n",
       "    <tr style=\"text-align: right;\">\n",
       "      <th></th>\n",
       "      <th>ID</th>\n",
       "      <th>name</th>\n",
       "      <th>category</th>\n",
       "      <th>main_category</th>\n",
       "      <th>currency</th>\n",
       "      <th>deadline</th>\n",
       "      <th>goal</th>\n",
       "      <th>launched</th>\n",
       "      <th>pledged</th>\n",
       "      <th>state</th>\n",
       "      <th>backers</th>\n",
       "      <th>country</th>\n",
       "      <th>usd pledged</th>\n",
       "      <th>usd_pledged_real</th>\n",
       "      <th>usd_goal_real</th>\n",
       "    </tr>\n",
       "  </thead>\n",
       "  <tbody>\n",
       "    <tr>\n",
       "      <th>338862</th>\n",
       "      <td>796196901</td>\n",
       "      <td>10G Christmas Tree</td>\n",
       "      <td>Art</td>\n",
       "      <td>Art</td>\n",
       "      <td>USD</td>\n",
       "      <td>2010-12-26</td>\n",
       "      <td>10526.00</td>\n",
       "      <td>2010-12-08 08:44:04</td>\n",
       "      <td>0.00</td>\n",
       "      <td>failed</td>\n",
       "      <td>0</td>\n",
       "      <td>US</td>\n",
       "      <td>0.00</td>\n",
       "      <td>0.00</td>\n",
       "      <td>10526.00</td>\n",
       "    </tr>\n",
       "    <tr>\n",
       "      <th>277871</th>\n",
       "      <td>483825010</td>\n",
       "      <td>Gliff</td>\n",
       "      <td>Gaming Hardware</td>\n",
       "      <td>Games</td>\n",
       "      <td>USD</td>\n",
       "      <td>2016-03-28</td>\n",
       "      <td>10000.00</td>\n",
       "      <td>2016-01-28 04:56:18</td>\n",
       "      <td>51.00</td>\n",
       "      <td>failed</td>\n",
       "      <td>5</td>\n",
       "      <td>US</td>\n",
       "      <td>51.00</td>\n",
       "      <td>51.00</td>\n",
       "      <td>10000.00</td>\n",
       "    </tr>\n",
       "    <tr>\n",
       "      <th>47000</th>\n",
       "      <td>123916947</td>\n",
       "      <td>STUFFED Food Truck</td>\n",
       "      <td>Food Trucks</td>\n",
       "      <td>Food</td>\n",
       "      <td>USD</td>\n",
       "      <td>2015-01-06</td>\n",
       "      <td>60000.00</td>\n",
       "      <td>2014-11-07 02:24:36</td>\n",
       "      <td>25.00</td>\n",
       "      <td>failed</td>\n",
       "      <td>1</td>\n",
       "      <td>US</td>\n",
       "      <td>25.00</td>\n",
       "      <td>25.00</td>\n",
       "      <td>60000.00</td>\n",
       "    </tr>\n",
       "    <tr>\n",
       "      <th>111338</th>\n",
       "      <td>1565733636</td>\n",
       "      <td>NeoExodus Adventure: Origin of Man for Pathfin...</td>\n",
       "      <td>Tabletop Games</td>\n",
       "      <td>Games</td>\n",
       "      <td>USD</td>\n",
       "      <td>2012-05-01</td>\n",
       "      <td>500.00</td>\n",
       "      <td>2012-03-15 01:16:10</td>\n",
       "      <td>585.00</td>\n",
       "      <td>successful</td>\n",
       "      <td>17</td>\n",
       "      <td>US</td>\n",
       "      <td>585.00</td>\n",
       "      <td>585.00</td>\n",
       "      <td>500.00</td>\n",
       "    </tr>\n",
       "    <tr>\n",
       "      <th>53743</th>\n",
       "      <td>1273544891</td>\n",
       "      <td>NAPOLEON IN NEW YORK! an original TV Series</td>\n",
       "      <td>Comedy</td>\n",
       "      <td>Film &amp; Video</td>\n",
       "      <td>USD</td>\n",
       "      <td>2016-07-26</td>\n",
       "      <td>25000.00</td>\n",
       "      <td>2016-05-27 00:07:25</td>\n",
       "      <td>25.00</td>\n",
       "      <td>failed</td>\n",
       "      <td>1</td>\n",
       "      <td>US</td>\n",
       "      <td>25.00</td>\n",
       "      <td>25.00</td>\n",
       "      <td>25000.00</td>\n",
       "    </tr>\n",
       "  </tbody>\n",
       "</table>\n",
       "</div>"
      ],
      "text/plain": [
       "                ID                                               name  \\\n",
       "338862   796196901                                 10G Christmas Tree   \n",
       "277871   483825010                                              Gliff   \n",
       "47000    123916947                                 STUFFED Food Truck   \n",
       "111338  1565733636  NeoExodus Adventure: Origin of Man for Pathfin...   \n",
       "53743   1273544891        NAPOLEON IN NEW YORK! an original TV Series   \n",
       "\n",
       "               category main_category currency    deadline     goal  \\\n",
       "338862              Art           Art      USD  2010-12-26 10526.00   \n",
       "277871  Gaming Hardware         Games      USD  2016-03-28 10000.00   \n",
       "47000       Food Trucks          Food      USD  2015-01-06 60000.00   \n",
       "111338   Tabletop Games         Games      USD  2012-05-01   500.00   \n",
       "53743            Comedy  Film & Video      USD  2016-07-26 25000.00   \n",
       "\n",
       "                   launched  pledged       state  backers country  \\\n",
       "338862  2010-12-08 08:44:04     0.00      failed        0      US   \n",
       "277871  2016-01-28 04:56:18    51.00      failed        5      US   \n",
       "47000   2014-11-07 02:24:36    25.00      failed        1      US   \n",
       "111338  2012-03-15 01:16:10   585.00  successful       17      US   \n",
       "53743   2016-05-27 00:07:25    25.00      failed        1      US   \n",
       "\n",
       "        usd pledged  usd_pledged_real  usd_goal_real  \n",
       "338862         0.00              0.00       10526.00  \n",
       "277871        51.00             51.00       10000.00  \n",
       "47000         25.00             25.00       60000.00  \n",
       "111338       585.00            585.00         500.00  \n",
       "53743         25.00             25.00       25000.00  "
      ]
     },
     "execution_count": 6,
     "metadata": {},
     "output_type": "execute_result"
    }
   ],
   "source": [
    "kickstarter_2018.sample(5)"
   ]
  },
  {
   "cell_type": "markdown",
   "metadata": {
    "colab_type": "text",
    "id": "O7mBSqudYStj"
   },
   "source": [
    "* Veamos si la descripción del dataset se corresponde con lo levantado    https://www.kaggle.com/kemical/kickstarter-projects/data"
   ]
  },
  {
   "cell_type": "code",
   "execution_count": 7,
   "metadata": {
    "colab": {
     "base_uri": "https://localhost:8080/",
     "height": 514
    },
    "colab_type": "code",
    "id": "GMoezCxSYStk",
    "outputId": "40ae8ecf-aedd-4344-cdc1-db994014a2ea"
   },
   "outputs": [
    {
     "data": {
      "text/html": [
       "<div>\n",
       "<style>\n",
       "    .dataframe thead tr:only-child th {\n",
       "        text-align: right;\n",
       "    }\n",
       "\n",
       "    .dataframe thead th {\n",
       "        text-align: left;\n",
       "    }\n",
       "\n",
       "    .dataframe tbody tr th {\n",
       "        vertical-align: top;\n",
       "    }\n",
       "</style>\n",
       "<table border=\"1\" class=\"dataframe\">\n",
       "  <thead>\n",
       "    <tr style=\"text-align: right;\">\n",
       "      <th></th>\n",
       "      <th>Field name</th>\n",
       "      <th>Field description</th>\n",
       "      <th>Type</th>\n",
       "    </tr>\n",
       "  </thead>\n",
       "  <tbody>\n",
       "    <tr>\n",
       "      <th>0</th>\n",
       "      <td>ID</td>\n",
       "      <td>No description provided</td>\n",
       "      <td>Numeric</td>\n",
       "    </tr>\n",
       "    <tr>\n",
       "      <th>1</th>\n",
       "      <td>name</td>\n",
       "      <td>No description provided</td>\n",
       "      <td>String</td>\n",
       "    </tr>\n",
       "    <tr>\n",
       "      <th>2</th>\n",
       "      <td>category</td>\n",
       "      <td>No description provided</td>\n",
       "      <td>String</td>\n",
       "    </tr>\n",
       "    <tr>\n",
       "      <th>3</th>\n",
       "      <td>main_category</td>\n",
       "      <td>No description provided</td>\n",
       "      <td>String</td>\n",
       "    </tr>\n",
       "    <tr>\n",
       "      <th>4</th>\n",
       "      <td>currency</td>\n",
       "      <td>No description provided</td>\n",
       "      <td>String</td>\n",
       "    </tr>\n",
       "    <tr>\n",
       "      <th>5</th>\n",
       "      <td>deadline</td>\n",
       "      <td>No description provided</td>\n",
       "      <td>DateTime</td>\n",
       "    </tr>\n",
       "    <tr>\n",
       "      <th>6</th>\n",
       "      <td>goal</td>\n",
       "      <td>Goal amount in project currency</td>\n",
       "      <td>Numeric</td>\n",
       "    </tr>\n",
       "    <tr>\n",
       "      <th>7</th>\n",
       "      <td>launched</td>\n",
       "      <td>No description provided</td>\n",
       "      <td>DateTime</td>\n",
       "    </tr>\n",
       "    <tr>\n",
       "      <th>8</th>\n",
       "      <td>pledged</td>\n",
       "      <td>Pledged amount in the project currency</td>\n",
       "      <td>Numeric</td>\n",
       "    </tr>\n",
       "    <tr>\n",
       "      <th>9</th>\n",
       "      <td>state</td>\n",
       "      <td>No description provided</td>\n",
       "      <td>String</td>\n",
       "    </tr>\n",
       "    <tr>\n",
       "      <th>10</th>\n",
       "      <td>backers</td>\n",
       "      <td>No description provided</td>\n",
       "      <td>Numeric</td>\n",
       "    </tr>\n",
       "    <tr>\n",
       "      <th>11</th>\n",
       "      <td>country</td>\n",
       "      <td>No description provided</td>\n",
       "      <td>String</td>\n",
       "    </tr>\n",
       "    <tr>\n",
       "      <th>12</th>\n",
       "      <td>usd pledged</td>\n",
       "      <td>Pledged amount in USD (conversion made by KS)</td>\n",
       "      <td>Numeric</td>\n",
       "    </tr>\n",
       "    <tr>\n",
       "      <th>13</th>\n",
       "      <td>usd_pledged_real</td>\n",
       "      <td>Pledged amount in USD (conversion made by fixe...</td>\n",
       "      <td>Numeric</td>\n",
       "    </tr>\n",
       "    <tr>\n",
       "      <th>14</th>\n",
       "      <td>usd_goal_real</td>\n",
       "      <td>Goal amount in USD</td>\n",
       "      <td>Numeric</td>\n",
       "    </tr>\n",
       "  </tbody>\n",
       "</table>\n",
       "</div>"
      ],
      "text/plain": [
       "          Field name                                  Field description  \\\n",
       "0                 ID                            No description provided   \n",
       "1               name                            No description provided   \n",
       "2           category                            No description provided   \n",
       "3      main_category                            No description provided   \n",
       "4           currency                            No description provided   \n",
       "5           deadline                            No description provided   \n",
       "6               goal                    Goal amount in project currency   \n",
       "7           launched                            No description provided   \n",
       "8            pledged             Pledged amount in the project currency   \n",
       "9              state                            No description provided   \n",
       "10           backers                            No description provided   \n",
       "11           country                            No description provided   \n",
       "12       usd pledged      Pledged amount in USD (conversion made by KS)   \n",
       "13  usd_pledged_real  Pledged amount in USD (conversion made by fixe...   \n",
       "14     usd_goal_real                                 Goal amount in USD   \n",
       "\n",
       "        Type  \n",
       "0    Numeric  \n",
       "1     String  \n",
       "2     String  \n",
       "3     String  \n",
       "4     String  \n",
       "5   DateTime  \n",
       "6    Numeric  \n",
       "7   DateTime  \n",
       "8    Numeric  \n",
       "9     String  \n",
       "10   Numeric  \n",
       "11    String  \n",
       "12   Numeric  \n",
       "13   Numeric  \n",
       "14   Numeric  "
      ]
     },
     "execution_count": 7,
     "metadata": {},
     "output_type": "execute_result"
    }
   ],
   "source": [
    "pd.DataFrame([[\"ID\", \"No description provided\", \"Numeric\"],\n",
    "[\"name\", \"No description provided\", \"String\"],\n",
    "[\"category\", \"No description provided\", \"String\"],\n",
    "[\"main_category\", \"No description provided\", \"String\"],\n",
    "[\"currency\", \"No description provided\", \"String\"],\n",
    "[\"deadline\", \"No description provided\", \"DateTime\"],\n",
    "[\"goal\", \"Goal amount in project currency\", \"Numeric\"],\n",
    "[\"launched\", \"No description provided\", \"DateTime\"],\n",
    "[\"pledged\", \"Pledged amount in the project currency\", \"Numeric\"],\n",
    "[\"state\", \"No description provided\", \"String\"],\n",
    "[\"backers\", \"No description provided\", \"Numeric\"],\n",
    "[\"country\", \"No description provided\", \"String\"],\n",
    "[\"usd pledged\", \"Pledged amount in USD (conversion made by KS)\", \"Numeric\"],\n",
    "[\"usd_pledged_real\", \"Pledged amount in USD (conversion made by fixer.io api)\", \"Numeric\"],\n",
    "[\"usd_goal_real\", \"Goal amount in USD\", \"Numeric\"]], columns=[\"Field name\",\"Field description\", \"Type\"])"
   ]
  },
  {
   "cell_type": "markdown",
   "metadata": {},
   "source": [
    "* Ahora veamos los tipos de datos que detectó pandas"
   ]
  },
  {
   "cell_type": "code",
   "execution_count": 8,
   "metadata": {
    "colab": {
     "base_uri": "https://localhost:8080/",
     "height": 289
    },
    "colab_type": "code",
    "id": "kYTfRt4GYStn",
    "outputId": "7885f6d9-e588-44b7-e6d4-9ffd65e474a1"
   },
   "outputs": [
    {
     "data": {
      "text/plain": [
       "ID                    int64\n",
       "name                 object\n",
       "category             object\n",
       "main_category        object\n",
       "currency             object\n",
       "deadline             object\n",
       "goal                float64\n",
       "launched             object\n",
       "pledged             float64\n",
       "state                object\n",
       "backers               int64\n",
       "country              object\n",
       "usd pledged         float64\n",
       "usd_pledged_real    float64\n",
       "usd_goal_real       float64\n",
       "dtype: object"
      ]
     },
     "execution_count": 8,
     "metadata": {},
     "output_type": "execute_result"
    }
   ],
   "source": [
    "kickstarter_2018.dtypes"
   ]
  },
  {
   "cell_type": "markdown",
   "metadata": {
    "colab_type": "text",
    "id": "9mmqjlyoYStq"
   },
   "source": [
    "* Los campos object generalmente son String\n",
    "* Vemos que no reconoció como fechas a las variables: **deadline** y **launched** "
   ]
  },
  {
   "cell_type": "code",
   "execution_count": 9,
   "metadata": {
    "colab": {
     "base_uri": "https://localhost:8080/",
     "height": 297
    },
    "colab_type": "code",
    "id": "rJYD_yW5YStr",
    "outputId": "d1b366b4-c77f-4721-ebc3-2cc34f1f275d"
   },
   "outputs": [
    {
     "data": {
      "text/html": [
       "<div>\n",
       "<style>\n",
       "    .dataframe thead tr:only-child th {\n",
       "        text-align: right;\n",
       "    }\n",
       "\n",
       "    .dataframe thead th {\n",
       "        text-align: left;\n",
       "    }\n",
       "\n",
       "    .dataframe tbody tr th {\n",
       "        vertical-align: top;\n",
       "    }\n",
       "</style>\n",
       "<table border=\"1\" class=\"dataframe\">\n",
       "  <thead>\n",
       "    <tr style=\"text-align: right;\">\n",
       "      <th></th>\n",
       "      <th>ID</th>\n",
       "      <th>goal</th>\n",
       "      <th>pledged</th>\n",
       "      <th>backers</th>\n",
       "      <th>usd pledged</th>\n",
       "      <th>usd_pledged_real</th>\n",
       "      <th>usd_goal_real</th>\n",
       "    </tr>\n",
       "  </thead>\n",
       "  <tbody>\n",
       "    <tr>\n",
       "      <th>count</th>\n",
       "      <td>378661.00</td>\n",
       "      <td>378661.00</td>\n",
       "      <td>378661.00</td>\n",
       "      <td>378661.00</td>\n",
       "      <td>374864.00</td>\n",
       "      <td>378661.00</td>\n",
       "      <td>378661.00</td>\n",
       "    </tr>\n",
       "    <tr>\n",
       "      <th>mean</th>\n",
       "      <td>1074731191.99</td>\n",
       "      <td>49080.79</td>\n",
       "      <td>9682.98</td>\n",
       "      <td>105.62</td>\n",
       "      <td>7036.73</td>\n",
       "      <td>9058.92</td>\n",
       "      <td>45454.40</td>\n",
       "    </tr>\n",
       "    <tr>\n",
       "      <th>std</th>\n",
       "      <td>619086204.32</td>\n",
       "      <td>1183391.26</td>\n",
       "      <td>95636.01</td>\n",
       "      <td>907.19</td>\n",
       "      <td>78639.75</td>\n",
       "      <td>90973.34</td>\n",
       "      <td>1152950.06</td>\n",
       "    </tr>\n",
       "    <tr>\n",
       "      <th>min</th>\n",
       "      <td>5971.00</td>\n",
       "      <td>0.01</td>\n",
       "      <td>0.00</td>\n",
       "      <td>0.00</td>\n",
       "      <td>0.00</td>\n",
       "      <td>0.00</td>\n",
       "      <td>0.01</td>\n",
       "    </tr>\n",
       "    <tr>\n",
       "      <th>25%</th>\n",
       "      <td>538263516.00</td>\n",
       "      <td>2000.00</td>\n",
       "      <td>30.00</td>\n",
       "      <td>2.00</td>\n",
       "      <td>16.98</td>\n",
       "      <td>31.00</td>\n",
       "      <td>2000.00</td>\n",
       "    </tr>\n",
       "    <tr>\n",
       "      <th>50%</th>\n",
       "      <td>1075275634.00</td>\n",
       "      <td>5200.00</td>\n",
       "      <td>620.00</td>\n",
       "      <td>12.00</td>\n",
       "      <td>394.72</td>\n",
       "      <td>624.33</td>\n",
       "      <td>5500.00</td>\n",
       "    </tr>\n",
       "    <tr>\n",
       "      <th>75%</th>\n",
       "      <td>1610148624.00</td>\n",
       "      <td>16000.00</td>\n",
       "      <td>4076.00</td>\n",
       "      <td>56.00</td>\n",
       "      <td>3034.09</td>\n",
       "      <td>4050.00</td>\n",
       "      <td>15500.00</td>\n",
       "    </tr>\n",
       "    <tr>\n",
       "      <th>max</th>\n",
       "      <td>2147476221.00</td>\n",
       "      <td>100000000.00</td>\n",
       "      <td>20338986.27</td>\n",
       "      <td>219382.00</td>\n",
       "      <td>20338986.27</td>\n",
       "      <td>20338986.27</td>\n",
       "      <td>166361390.71</td>\n",
       "    </tr>\n",
       "  </tbody>\n",
       "</table>\n",
       "</div>"
      ],
      "text/plain": [
       "                 ID         goal     pledged   backers  usd pledged  \\\n",
       "count     378661.00    378661.00   378661.00 378661.00    374864.00   \n",
       "mean  1074731191.99     49080.79     9682.98    105.62      7036.73   \n",
       "std    619086204.32   1183391.26    95636.01    907.19     78639.75   \n",
       "min         5971.00         0.01        0.00      0.00         0.00   \n",
       "25%    538263516.00      2000.00       30.00      2.00        16.98   \n",
       "50%   1075275634.00      5200.00      620.00     12.00       394.72   \n",
       "75%   1610148624.00     16000.00     4076.00     56.00      3034.09   \n",
       "max   2147476221.00 100000000.00 20338986.27 219382.00  20338986.27   \n",
       "\n",
       "       usd_pledged_real  usd_goal_real  \n",
       "count         378661.00      378661.00  \n",
       "mean            9058.92       45454.40  \n",
       "std            90973.34     1152950.06  \n",
       "min                0.00           0.01  \n",
       "25%               31.00        2000.00  \n",
       "50%              624.33        5500.00  \n",
       "75%             4050.00       15500.00  \n",
       "max         20338986.27   166361390.71  "
      ]
     },
     "execution_count": 9,
     "metadata": {},
     "output_type": "execute_result"
    }
   ],
   "source": [
    "# Vemos un resumen de los datos\n",
    "\n",
    "kickstarter_2018.describe()"
   ]
  },
  {
   "cell_type": "code",
   "execution_count": 10,
   "metadata": {
    "colab": {
     "base_uri": "https://localhost:8080/",
     "height": 173
    },
    "colab_type": "code",
    "id": "F3vOZk3zYStw",
    "outputId": "b2f1ddec-e75f-4e45-b38c-4dcba0d54b2b"
   },
   "outputs": [
    {
     "data": {
      "text/html": [
       "<div>\n",
       "<style>\n",
       "    .dataframe thead tr:only-child th {\n",
       "        text-align: right;\n",
       "    }\n",
       "\n",
       "    .dataframe thead th {\n",
       "        text-align: left;\n",
       "    }\n",
       "\n",
       "    .dataframe tbody tr th {\n",
       "        vertical-align: top;\n",
       "    }\n",
       "</style>\n",
       "<table border=\"1\" class=\"dataframe\">\n",
       "  <thead>\n",
       "    <tr style=\"text-align: right;\">\n",
       "      <th></th>\n",
       "      <th>name</th>\n",
       "      <th>category</th>\n",
       "      <th>main_category</th>\n",
       "      <th>currency</th>\n",
       "      <th>deadline</th>\n",
       "      <th>launched</th>\n",
       "      <th>state</th>\n",
       "      <th>country</th>\n",
       "    </tr>\n",
       "  </thead>\n",
       "  <tbody>\n",
       "    <tr>\n",
       "      <th>count</th>\n",
       "      <td>378657</td>\n",
       "      <td>378661</td>\n",
       "      <td>378661</td>\n",
       "      <td>378661</td>\n",
       "      <td>378661</td>\n",
       "      <td>378661</td>\n",
       "      <td>378661</td>\n",
       "      <td>378661</td>\n",
       "    </tr>\n",
       "    <tr>\n",
       "      <th>unique</th>\n",
       "      <td>375764</td>\n",
       "      <td>159</td>\n",
       "      <td>15</td>\n",
       "      <td>14</td>\n",
       "      <td>3164</td>\n",
       "      <td>378089</td>\n",
       "      <td>6</td>\n",
       "      <td>23</td>\n",
       "    </tr>\n",
       "    <tr>\n",
       "      <th>top</th>\n",
       "      <td>New EP/Music Development</td>\n",
       "      <td>Product Design</td>\n",
       "      <td>Film &amp; Video</td>\n",
       "      <td>USD</td>\n",
       "      <td>2014-08-08</td>\n",
       "      <td>1970-01-01 01:00:00</td>\n",
       "      <td>failed</td>\n",
       "      <td>US</td>\n",
       "    </tr>\n",
       "    <tr>\n",
       "      <th>freq</th>\n",
       "      <td>41</td>\n",
       "      <td>22314</td>\n",
       "      <td>63585</td>\n",
       "      <td>295365</td>\n",
       "      <td>705</td>\n",
       "      <td>7</td>\n",
       "      <td>197719</td>\n",
       "      <td>292627</td>\n",
       "    </tr>\n",
       "  </tbody>\n",
       "</table>\n",
       "</div>"
      ],
      "text/plain": [
       "                            name        category main_category currency  \\\n",
       "count                     378657          378661        378661   378661   \n",
       "unique                    375764             159            15       14   \n",
       "top     New EP/Music Development  Product Design  Film & Video      USD   \n",
       "freq                          41           22314         63585   295365   \n",
       "\n",
       "          deadline             launched   state country  \n",
       "count       378661               378661  378661  378661  \n",
       "unique        3164               378089       6      23  \n",
       "top     2014-08-08  1970-01-01 01:00:00  failed      US  \n",
       "freq           705                    7  197719  292627  "
      ]
     },
     "execution_count": 10,
     "metadata": {},
     "output_type": "execute_result"
    }
   ],
   "source": [
    "# Por defecto se ven los datos numéricos\n",
    "# Pediremos ver el resto de los datos\n",
    "\n",
    "kickstarter_2018.describe(include=['object'])"
   ]
  },
  {
   "cell_type": "code",
   "execution_count": 11,
   "metadata": {
    "colab": {
     "base_uri": "https://localhost:8080/",
     "height": 34
    },
    "colab_type": "code",
    "id": "lWP5PHJdYSt0",
    "outputId": "7ac518b7-6355-4379-b444-22d5257f0689"
   },
   "outputs": [
    {
     "data": {
      "text/plain": [
       "'1970-01-01 01:00:00'"
      ]
     },
     "execution_count": 11,
     "metadata": {},
     "output_type": "execute_result"
    }
   ],
   "source": [
    "# Operamos sobre los datos pidiendo el valor mínimo\n",
    "\n",
    "kickstarter_2018['launched'].min()"
   ]
  },
  {
   "cell_type": "code",
   "execution_count": 12,
   "metadata": {},
   "outputs": [
    {
     "data": {
      "text/plain": [
       "'2018-01-02 15:02:31'"
      ]
     },
     "execution_count": 12,
     "metadata": {},
     "output_type": "execute_result"
    }
   ],
   "source": [
    "# Operamos sobre los datos pidiendo el valor máximo\n",
    "kickstarter_2018['launched'].max()"
   ]
  },
  {
   "cell_type": "code",
   "execution_count": 13,
   "metadata": {},
   "outputs": [
    {
     "data": {
      "text/plain": [
       "ID                           int64\n",
       "name                        object\n",
       "category                    object\n",
       "main_category               object\n",
       "currency                    object\n",
       "deadline            datetime64[ns]\n",
       "goal                       float64\n",
       "launched            datetime64[ns]\n",
       "pledged                    float64\n",
       "state                       object\n",
       "backers                      int64\n",
       "country                     object\n",
       "usd pledged                float64\n",
       "usd_pledged_real           float64\n",
       "usd_goal_real              float64\n",
       "dtype: object"
      ]
     },
     "execution_count": 13,
     "metadata": {},
     "output_type": "execute_result"
    }
   ],
   "source": [
    "# Indicamos que columnas corresponden a fechas\n",
    "\n",
    "kickstarter_2018 = pd.read_csv(BASE_DIR + \"/input/kickstarter-projects/ks-projects-201801.csv\", \n",
    "                               parse_dates=[\"deadline\",\"launched\"])\n",
    "kickstarter_2018.dtypes"
   ]
  },
  {
   "cell_type": "code",
   "execution_count": 14,
   "metadata": {
    "colab": {
     "base_uri": "https://localhost:8080/",
     "height": 34
    },
    "colab_type": "code",
    "id": "8qhSEoVJYSuR",
    "outputId": "2f0934d1-74fb-4f4e-cb4d-c9800a123d73"
   },
   "outputs": [
    {
     "data": {
      "text/plain": [
       "Timedelta('17533 days 14:02:31')"
      ]
     },
     "execution_count": 14,
     "metadata": {},
     "output_type": "execute_result"
    }
   ],
   "source": [
    "# Ahora podemos calcular el rango de la fecha de lanzamiento -> 'launched'\n",
    "\n",
    "kickstarter_2018['launched'].max() - kickstarter_2018['launched'].min()"
   ]
  },
  {
   "cell_type": "markdown",
   "metadata": {
    "colab_type": "text",
    "id": "kUuWg5XxYSuU"
   },
   "source": [
    "# 1.2. Asegurar de tener ids/claves únicas"
   ]
  },
  {
   "cell_type": "markdown",
   "metadata": {
    "colab_type": "text",
    "id": "a8kLSONTYSuV"
   },
   "source": [
    "* Chequeo de datos duplicados"
   ]
  },
  {
   "cell_type": "code",
   "execution_count": 15,
   "metadata": {
    "colab": {
     "base_uri": "https://localhost:8080/",
     "height": 34
    },
    "colab_type": "code",
    "id": "wIbpcwGKYSuW",
    "outputId": "00f94189-76b7-4482-eca5-49f293d4ea3b"
   },
   "outputs": [
    {
     "data": {
      "text/plain": [
       "(378661, 15)"
      ]
     },
     "execution_count": 15,
     "metadata": {},
     "output_type": "execute_result"
    }
   ],
   "source": [
    "kickstarter_2018.shape"
   ]
  },
  {
   "cell_type": "markdown",
   "metadata": {},
   "source": [
    "* Pandas soporta índices (id) en los DataFrames"
   ]
  },
  {
   "cell_type": "code",
   "execution_count": 30,
   "metadata": {
    "colab": {},
    "colab_type": "code",
    "id": "85qApsv2YSuZ"
   },
   "outputs": [],
   "source": [
    "# Recargamos el conjunto de datos indicando que columna será el índice (index_col=['ID'])\n",
    "\n",
    "kickstarter_2018 = pd.read_csv(BASE_DIR + \"/input/kickstarter-projects/ks-projects-201801.csv\", \n",
    "                               parse_dates=[\"deadline\",\"launched\"],\n",
    "                               index_col=['ID'])"
   ]
  },
  {
   "cell_type": "code",
   "execution_count": 31,
   "metadata": {
    "colab": {
     "base_uri": "https://localhost:8080/",
     "height": 3037
    },
    "colab_type": "code",
    "id": "zUl3zjhQYSuc",
    "outputId": "099569e5-011d-48fc-a61f-26617ebacc88"
   },
   "outputs": [
    {
     "data": {
      "text/html": [
       "<div>\n",
       "<style>\n",
       "    .dataframe thead tr:only-child th {\n",
       "        text-align: right;\n",
       "    }\n",
       "\n",
       "    .dataframe thead th {\n",
       "        text-align: left;\n",
       "    }\n",
       "\n",
       "    .dataframe tbody tr th {\n",
       "        vertical-align: top;\n",
       "    }\n",
       "</style>\n",
       "<table border=\"1\" class=\"dataframe\">\n",
       "  <thead>\n",
       "    <tr style=\"text-align: right;\">\n",
       "      <th></th>\n",
       "      <th>name</th>\n",
       "      <th>category</th>\n",
       "      <th>main_category</th>\n",
       "      <th>currency</th>\n",
       "      <th>deadline</th>\n",
       "      <th>goal</th>\n",
       "      <th>launched</th>\n",
       "      <th>pledged</th>\n",
       "      <th>state</th>\n",
       "      <th>backers</th>\n",
       "      <th>country</th>\n",
       "      <th>usd pledged</th>\n",
       "      <th>usd_pledged_real</th>\n",
       "      <th>usd_goal_real</th>\n",
       "    </tr>\n",
       "    <tr>\n",
       "      <th>ID</th>\n",
       "      <th></th>\n",
       "      <th></th>\n",
       "      <th></th>\n",
       "      <th></th>\n",
       "      <th></th>\n",
       "      <th></th>\n",
       "      <th></th>\n",
       "      <th></th>\n",
       "      <th></th>\n",
       "      <th></th>\n",
       "      <th></th>\n",
       "      <th></th>\n",
       "      <th></th>\n",
       "      <th></th>\n",
       "    </tr>\n",
       "  </thead>\n",
       "  <tbody>\n",
       "    <tr>\n",
       "      <th>1000002330</th>\n",
       "      <td>The Songs of Adelaide &amp; Abullah</td>\n",
       "      <td>Poetry</td>\n",
       "      <td>Publishing</td>\n",
       "      <td>GBP</td>\n",
       "      <td>2015-10-09</td>\n",
       "      <td>1000.00</td>\n",
       "      <td>2015-08-11 12:12:28</td>\n",
       "      <td>0.00</td>\n",
       "      <td>failed</td>\n",
       "      <td>0</td>\n",
       "      <td>GB</td>\n",
       "      <td>0.00</td>\n",
       "      <td>0.00</td>\n",
       "      <td>1533.95</td>\n",
       "    </tr>\n",
       "    <tr>\n",
       "      <th>1000003930</th>\n",
       "      <td>Greeting From Earth: ZGAC Arts Capsule For ET</td>\n",
       "      <td>Narrative Film</td>\n",
       "      <td>Film &amp; Video</td>\n",
       "      <td>USD</td>\n",
       "      <td>2017-11-01</td>\n",
       "      <td>30000.00</td>\n",
       "      <td>2017-09-02 04:43:57</td>\n",
       "      <td>2421.00</td>\n",
       "      <td>failed</td>\n",
       "      <td>15</td>\n",
       "      <td>US</td>\n",
       "      <td>100.00</td>\n",
       "      <td>2421.00</td>\n",
       "      <td>30000.00</td>\n",
       "    </tr>\n",
       "    <tr>\n",
       "      <th>1000004038</th>\n",
       "      <td>Where is Hank?</td>\n",
       "      <td>Narrative Film</td>\n",
       "      <td>Film &amp; Video</td>\n",
       "      <td>USD</td>\n",
       "      <td>2013-02-26</td>\n",
       "      <td>45000.00</td>\n",
       "      <td>2013-01-12 00:20:50</td>\n",
       "      <td>220.00</td>\n",
       "      <td>failed</td>\n",
       "      <td>3</td>\n",
       "      <td>US</td>\n",
       "      <td>220.00</td>\n",
       "      <td>220.00</td>\n",
       "      <td>45000.00</td>\n",
       "    </tr>\n",
       "    <tr>\n",
       "      <th>1000007540</th>\n",
       "      <td>ToshiCapital Rekordz Needs Help to Complete Album</td>\n",
       "      <td>Music</td>\n",
       "      <td>Music</td>\n",
       "      <td>USD</td>\n",
       "      <td>2012-04-16</td>\n",
       "      <td>5000.00</td>\n",
       "      <td>2012-03-17 03:24:11</td>\n",
       "      <td>1.00</td>\n",
       "      <td>failed</td>\n",
       "      <td>1</td>\n",
       "      <td>US</td>\n",
       "      <td>1.00</td>\n",
       "      <td>1.00</td>\n",
       "      <td>5000.00</td>\n",
       "    </tr>\n",
       "    <tr>\n",
       "      <th>1000011046</th>\n",
       "      <td>Community Film Project: The Art of Neighborhoo...</td>\n",
       "      <td>Film &amp; Video</td>\n",
       "      <td>Film &amp; Video</td>\n",
       "      <td>USD</td>\n",
       "      <td>2015-08-29</td>\n",
       "      <td>19500.00</td>\n",
       "      <td>2015-07-04 08:35:03</td>\n",
       "      <td>1283.00</td>\n",
       "      <td>canceled</td>\n",
       "      <td>14</td>\n",
       "      <td>US</td>\n",
       "      <td>1283.00</td>\n",
       "      <td>1283.00</td>\n",
       "      <td>19500.00</td>\n",
       "    </tr>\n",
       "  </tbody>\n",
       "</table>\n",
       "</div>"
      ],
      "text/plain": [
       "                                                         name        category  \\\n",
       "ID                                                                              \n",
       "1000002330                    The Songs of Adelaide & Abullah          Poetry   \n",
       "1000003930      Greeting From Earth: ZGAC Arts Capsule For ET  Narrative Film   \n",
       "1000004038                                     Where is Hank?  Narrative Film   \n",
       "1000007540  ToshiCapital Rekordz Needs Help to Complete Album           Music   \n",
       "1000011046  Community Film Project: The Art of Neighborhoo...    Film & Video   \n",
       "\n",
       "           main_category currency   deadline     goal            launched  \\\n",
       "ID                                                                          \n",
       "1000002330    Publishing      GBP 2015-10-09  1000.00 2015-08-11 12:12:28   \n",
       "1000003930  Film & Video      USD 2017-11-01 30000.00 2017-09-02 04:43:57   \n",
       "1000004038  Film & Video      USD 2013-02-26 45000.00 2013-01-12 00:20:50   \n",
       "1000007540         Music      USD 2012-04-16  5000.00 2012-03-17 03:24:11   \n",
       "1000011046  Film & Video      USD 2015-08-29 19500.00 2015-07-04 08:35:03   \n",
       "\n",
       "            pledged     state  backers country  usd pledged  usd_pledged_real  \\\n",
       "ID                                                                              \n",
       "1000002330     0.00    failed        0      GB         0.00              0.00   \n",
       "1000003930  2421.00    failed       15      US       100.00           2421.00   \n",
       "1000004038   220.00    failed        3      US       220.00            220.00   \n",
       "1000007540     1.00    failed        1      US         1.00              1.00   \n",
       "1000011046  1283.00  canceled       14      US      1283.00           1283.00   \n",
       "\n",
       "            usd_goal_real  \n",
       "ID                         \n",
       "1000002330        1533.95  \n",
       "1000003930       30000.00  \n",
       "1000004038       45000.00  \n",
       "1000007540        5000.00  \n",
       "1000011046       19500.00  "
      ]
     },
     "execution_count": 31,
     "metadata": {},
     "output_type": "execute_result"
    }
   ],
   "source": [
    "kickstarter_2018[:5]"
   ]
  },
  {
   "cell_type": "code",
   "execution_count": 18,
   "metadata": {
    "colab": {
     "base_uri": "https://localhost:8080/",
     "height": 34
    },
    "colab_type": "code",
    "id": "RirO_GHkYSuf",
    "outputId": "3df37737-266b-4d2c-b71a-0ad5b51cac7f"
   },
   "outputs": [
    {
     "data": {
      "text/plain": [
       "(378661, 14)"
      ]
     },
     "execution_count": 18,
     "metadata": {},
     "output_type": "execute_result"
    }
   ],
   "source": [
    "kickstarter_2018.shape"
   ]
  },
  {
   "cell_type": "markdown",
   "metadata": {},
   "source": [
    "* Indicar el índice nos permite que podamos usarlo para buscar por ese dato"
   ]
  },
  {
   "cell_type": "code",
   "execution_count": 19,
   "metadata": {},
   "outputs": [
    {
     "data": {
      "text/plain": [
       "name                Nou Renmen Ayiti!  We Love Haiti!\n",
       "category                              Performance Art\n",
       "main_category                                     Art\n",
       "currency                                          USD\n",
       "deadline                          2011-08-16 00:00:00\n",
       "goal                                          2000.00\n",
       "launched                          2011-07-19 09:07:47\n",
       "pledged                                        524.00\n",
       "state                                          failed\n",
       "backers                                            17\n",
       "country                                            US\n",
       "usd pledged                                    524.00\n",
       "usd_pledged_real                               524.00\n",
       "usd_goal_real                                 2000.00\n",
       "Name: 999988282, dtype: object"
      ]
     },
     "execution_count": 19,
     "metadata": {},
     "output_type": "execute_result"
    }
   ],
   "source": [
    "kickstarter_2018.loc[999988282]"
   ]
  },
  {
   "cell_type": "markdown",
   "metadata": {},
   "source": [
    "* Buscar por índice, nos permite verificar si hay filas de contenidos duplicado"
   ]
  },
  {
   "cell_type": "code",
   "execution_count": 32,
   "metadata": {
    "colab": {
     "base_uri": "https://localhost:8080/",
     "height": 80
    },
    "colab_type": "code",
    "id": "ezFOfJESYSui",
    "outputId": "edd33871-6744-439a-cdb3-b426e2ee5e01"
   },
   "outputs": [
    {
     "data": {
      "text/html": [
       "<div>\n",
       "<style>\n",
       "    .dataframe thead tr:only-child th {\n",
       "        text-align: right;\n",
       "    }\n",
       "\n",
       "    .dataframe thead th {\n",
       "        text-align: left;\n",
       "    }\n",
       "\n",
       "    .dataframe tbody tr th {\n",
       "        vertical-align: top;\n",
       "    }\n",
       "</style>\n",
       "<table border=\"1\" class=\"dataframe\">\n",
       "  <thead>\n",
       "    <tr style=\"text-align: right;\">\n",
       "      <th></th>\n",
       "      <th>name</th>\n",
       "      <th>category</th>\n",
       "      <th>main_category</th>\n",
       "      <th>currency</th>\n",
       "      <th>deadline</th>\n",
       "      <th>goal</th>\n",
       "      <th>launched</th>\n",
       "      <th>pledged</th>\n",
       "      <th>state</th>\n",
       "      <th>backers</th>\n",
       "      <th>country</th>\n",
       "      <th>usd pledged</th>\n",
       "      <th>usd_pledged_real</th>\n",
       "      <th>usd_goal_real</th>\n",
       "    </tr>\n",
       "    <tr>\n",
       "      <th>ID</th>\n",
       "      <th></th>\n",
       "      <th></th>\n",
       "      <th></th>\n",
       "      <th></th>\n",
       "      <th></th>\n",
       "      <th></th>\n",
       "      <th></th>\n",
       "      <th></th>\n",
       "      <th></th>\n",
       "      <th></th>\n",
       "      <th></th>\n",
       "      <th></th>\n",
       "      <th></th>\n",
       "      <th></th>\n",
       "    </tr>\n",
       "  </thead>\n",
       "  <tbody>\n",
       "  </tbody>\n",
       "</table>\n",
       "</div>"
      ],
      "text/plain": [
       "Empty DataFrame\n",
       "Columns: [name, category, main_category, currency, deadline, goal, launched, pledged, state, backers, country, usd pledged, usd_pledged_real, usd_goal_real]\n",
       "Index: []"
      ]
     },
     "execution_count": 32,
     "metadata": {},
     "output_type": "execute_result"
    }
   ],
   "source": [
    "# Para buscar duplicados\n",
    "\n",
    "kickstarter_2018[kickstarter_2018.duplicated()]"
   ]
  },
  {
   "cell_type": "markdown",
   "metadata": {},
   "source": [
    "* No detectó datos duplicados\n",
    "* Como Pandas acepta valores duplicados en los índices también debemos verificarlos"
   ]
  },
  {
   "cell_type": "code",
   "execution_count": 21,
   "metadata": {},
   "outputs": [
    {
     "data": {
      "text/plain": [
       "count       378661.00\n",
       "mean    1074731191.99\n",
       "std      619086204.32\n",
       "min           5971.00\n",
       "25%      538263516.00\n",
       "50%     1075275634.00\n",
       "75%     1610148624.00\n",
       "max     2147476221.00\n",
       "Name: ID, dtype: float64"
      ]
     },
     "execution_count": 21,
     "metadata": {},
     "output_type": "execute_result"
    }
   ],
   "source": [
    "# Estadísticos descriptivos de la columna ID\n",
    "\n",
    "pd.Series(kickstarter_2018.index,dtype=str).describe()"
   ]
  },
  {
   "cell_type": "code",
   "execution_count": 22,
   "metadata": {},
   "outputs": [
    {
     "data": {
      "text/html": [
       "<div>\n",
       "<style>\n",
       "    .dataframe thead tr:only-child th {\n",
       "        text-align: right;\n",
       "    }\n",
       "\n",
       "    .dataframe thead th {\n",
       "        text-align: left;\n",
       "    }\n",
       "\n",
       "    .dataframe tbody tr th {\n",
       "        vertical-align: top;\n",
       "    }\n",
       "</style>\n",
       "<table border=\"1\" class=\"dataframe\">\n",
       "  <thead>\n",
       "    <tr style=\"text-align: right;\">\n",
       "      <th></th>\n",
       "      <th>name</th>\n",
       "      <th>category</th>\n",
       "      <th>main_category</th>\n",
       "      <th>currency</th>\n",
       "      <th>deadline</th>\n",
       "      <th>goal</th>\n",
       "      <th>launched</th>\n",
       "      <th>pledged</th>\n",
       "      <th>state</th>\n",
       "      <th>backers</th>\n",
       "      <th>country</th>\n",
       "      <th>usd pledged</th>\n",
       "      <th>usd_pledged_real</th>\n",
       "      <th>usd_goal_real</th>\n",
       "    </tr>\n",
       "    <tr>\n",
       "      <th>ID</th>\n",
       "      <th></th>\n",
       "      <th></th>\n",
       "      <th></th>\n",
       "      <th></th>\n",
       "      <th></th>\n",
       "      <th></th>\n",
       "      <th></th>\n",
       "      <th></th>\n",
       "      <th></th>\n",
       "      <th></th>\n",
       "      <th></th>\n",
       "      <th></th>\n",
       "      <th></th>\n",
       "      <th></th>\n",
       "    </tr>\n",
       "  </thead>\n",
       "  <tbody>\n",
       "  </tbody>\n",
       "</table>\n",
       "</div>"
      ],
      "text/plain": [
       "Empty DataFrame\n",
       "Columns: [name, category, main_category, currency, deadline, goal, launched, pledged, state, backers, country, usd pledged, usd_pledged_real, usd_goal_real]\n",
       "Index: []"
      ]
     },
     "execution_count": 22,
     "metadata": {},
     "output_type": "execute_result"
    }
   ],
   "source": [
    "# Buscamos nuevamente si hay datos duplicados\n",
    "\n",
    "kickstarter_2018[kickstarter_2018.index.duplicated()]"
   ]
  },
  {
   "cell_type": "markdown",
   "metadata": {},
   "source": [
    "* No detectó duplicados"
   ]
  },
  {
   "cell_type": "markdown",
   "metadata": {},
   "source": [
    "## Repasamos con un ejemplo"
   ]
  },
  {
   "cell_type": "code",
   "execution_count": 23,
   "metadata": {
    "colab": {
     "base_uri": "https://localhost:8080/",
     "height": 68
    },
    "colab_type": "code",
    "id": "YJFhG_xcYSul",
    "outputId": "87e383b2-2a2e-477a-f7ba-6026b1c2d3e9"
   },
   "outputs": [
    {
     "name": "stdout",
     "output_type": "stream",
     "text": [
      "1,2\n",
      "3,3\n",
      "1,3\n"
     ]
    }
   ],
   "source": [
    "csv='1,2\\n3,3\\n1,3'\n",
    "print(csv)"
   ]
  },
  {
   "cell_type": "code",
   "execution_count": 24,
   "metadata": {
    "colab": {
     "base_uri": "https://localhost:8080/",
     "height": 173
    },
    "colab_type": "code",
    "id": "rNyteTc8YSuo",
    "outputId": "0bdc5122-e48b-4be2-f45c-56c84b77af53"
   },
   "outputs": [
    {
     "data": {
      "text/html": [
       "<div>\n",
       "<style>\n",
       "    .dataframe thead tr:only-child th {\n",
       "        text-align: right;\n",
       "    }\n",
       "\n",
       "    .dataframe thead th {\n",
       "        text-align: left;\n",
       "    }\n",
       "\n",
       "    .dataframe tbody tr th {\n",
       "        vertical-align: top;\n",
       "    }\n",
       "</style>\n",
       "<table border=\"1\" class=\"dataframe\">\n",
       "  <thead>\n",
       "    <tr style=\"text-align: right;\">\n",
       "      <th></th>\n",
       "      <th>value</th>\n",
       "    </tr>\n",
       "    <tr>\n",
       "      <th>id</th>\n",
       "      <th></th>\n",
       "    </tr>\n",
       "  </thead>\n",
       "  <tbody>\n",
       "    <tr>\n",
       "      <th>1</th>\n",
       "      <td>2</td>\n",
       "    </tr>\n",
       "    <tr>\n",
       "      <th>3</th>\n",
       "      <td>3</td>\n",
       "    </tr>\n",
       "    <tr>\n",
       "      <th>1</th>\n",
       "      <td>3</td>\n",
       "    </tr>\n",
       "  </tbody>\n",
       "</table>\n",
       "</div>"
      ],
      "text/plain": [
       "    value\n",
       "id       \n",
       "1       2\n",
       "3       3\n",
       "1       3"
      ]
     },
     "execution_count": 24,
     "metadata": {},
     "output_type": "execute_result"
    }
   ],
   "source": [
    "from io import StringIO\n",
    "df = pd.read_csv(StringIO(csv), names=['id','value'], index_col='id')\n",
    "df"
   ]
  },
  {
   "cell_type": "code",
   "execution_count": 25,
   "metadata": {
    "colab": {
     "base_uri": "https://localhost:8080/",
     "height": 111
    },
    "colab_type": "code",
    "id": "9WWSayCYYSus",
    "outputId": "debb1c48-5b01-4066-f0e9-330219d99a97"
   },
   "outputs": [
    {
     "data": {
      "text/html": [
       "<div>\n",
       "<style>\n",
       "    .dataframe thead tr:only-child th {\n",
       "        text-align: right;\n",
       "    }\n",
       "\n",
       "    .dataframe thead th {\n",
       "        text-align: left;\n",
       "    }\n",
       "\n",
       "    .dataframe tbody tr th {\n",
       "        vertical-align: top;\n",
       "    }\n",
       "</style>\n",
       "<table border=\"1\" class=\"dataframe\">\n",
       "  <thead>\n",
       "    <tr style=\"text-align: right;\">\n",
       "      <th></th>\n",
       "      <th>value</th>\n",
       "    </tr>\n",
       "    <tr>\n",
       "      <th>id</th>\n",
       "      <th></th>\n",
       "    </tr>\n",
       "  </thead>\n",
       "  <tbody>\n",
       "    <tr>\n",
       "      <th>1</th>\n",
       "      <td>3</td>\n",
       "    </tr>\n",
       "  </tbody>\n",
       "</table>\n",
       "</div>"
      ],
      "text/plain": [
       "    value\n",
       "id       \n",
       "1       3"
      ]
     },
     "execution_count": 25,
     "metadata": {},
     "output_type": "execute_result"
    }
   ],
   "source": [
    "df[df.duplicated()]"
   ]
  },
  {
   "cell_type": "code",
   "execution_count": 26,
   "metadata": {
    "colab": {
     "base_uri": "https://localhost:8080/",
     "height": 142
    },
    "colab_type": "code",
    "id": "r7e3fEnWYSuu",
    "outputId": "2fed6549-656e-4dcd-aaac-4ad11ccd9b18"
   },
   "outputs": [
    {
     "data": {
      "text/html": [
       "<div>\n",
       "<style>\n",
       "    .dataframe thead tr:only-child th {\n",
       "        text-align: right;\n",
       "    }\n",
       "\n",
       "    .dataframe thead th {\n",
       "        text-align: left;\n",
       "    }\n",
       "\n",
       "    .dataframe tbody tr th {\n",
       "        vertical-align: top;\n",
       "    }\n",
       "</style>\n",
       "<table border=\"1\" class=\"dataframe\">\n",
       "  <thead>\n",
       "    <tr style=\"text-align: right;\">\n",
       "      <th></th>\n",
       "      <th>value</th>\n",
       "    </tr>\n",
       "    <tr>\n",
       "      <th>id</th>\n",
       "      <th></th>\n",
       "    </tr>\n",
       "  </thead>\n",
       "  <tbody>\n",
       "    <tr>\n",
       "      <th>1</th>\n",
       "      <td>2</td>\n",
       "    </tr>\n",
       "    <tr>\n",
       "      <th>1</th>\n",
       "      <td>3</td>\n",
       "    </tr>\n",
       "  </tbody>\n",
       "</table>\n",
       "</div>"
      ],
      "text/plain": [
       "    value\n",
       "id       \n",
       "1       2\n",
       "1       3"
      ]
     },
     "execution_count": 26,
     "metadata": {},
     "output_type": "execute_result"
    }
   ],
   "source": [
    "df[df.index.duplicated(keep=False)]"
   ]
  },
  {
   "cell_type": "markdown",
   "metadata": {},
   "source": [
    "### Ejercicio 1:\n",
    "\n",
    "* Armar una tabla con todos los proyectos con nombres duplicados, ordenados para revisar agrupados. "
   ]
  },
  {
   "cell_type": "code",
   "execution_count": 34,
   "metadata": {},
   "outputs": [
    {
     "data": {
      "text/html": [
       "<div>\n",
       "<style>\n",
       "    .dataframe thead tr:only-child th {\n",
       "        text-align: right;\n",
       "    }\n",
       "\n",
       "    .dataframe thead th {\n",
       "        text-align: left;\n",
       "    }\n",
       "\n",
       "    .dataframe tbody tr th {\n",
       "        vertical-align: top;\n",
       "    }\n",
       "</style>\n",
       "<table border=\"1\" class=\"dataframe\">\n",
       "  <thead>\n",
       "    <tr style=\"text-align: right;\">\n",
       "      <th></th>\n",
       "      <th>ID</th>\n",
       "      <th>category</th>\n",
       "      <th>main_category</th>\n",
       "      <th>currency</th>\n",
       "      <th>deadline</th>\n",
       "      <th>goal</th>\n",
       "      <th>launched</th>\n",
       "      <th>pledged</th>\n",
       "      <th>state</th>\n",
       "      <th>backers</th>\n",
       "      <th>country</th>\n",
       "      <th>usd pledged</th>\n",
       "      <th>usd_pledged_real</th>\n",
       "      <th>usd_goal_real</th>\n",
       "    </tr>\n",
       "    <tr>\n",
       "      <th>name</th>\n",
       "      <th></th>\n",
       "      <th></th>\n",
       "      <th></th>\n",
       "      <th></th>\n",
       "      <th></th>\n",
       "      <th></th>\n",
       "      <th></th>\n",
       "      <th></th>\n",
       "      <th></th>\n",
       "      <th></th>\n",
       "      <th></th>\n",
       "      <th></th>\n",
       "      <th></th>\n",
       "      <th></th>\n",
       "    </tr>\n",
       "  </thead>\n",
       "  <tbody>\n",
       "    <tr>\n",
       "      <th>The Songs of Adelaide &amp; Abullah</th>\n",
       "      <td>1000002330</td>\n",
       "      <td>Poetry</td>\n",
       "      <td>Publishing</td>\n",
       "      <td>GBP</td>\n",
       "      <td>2015-10-09</td>\n",
       "      <td>1000.00</td>\n",
       "      <td>2015-08-11 12:12:28</td>\n",
       "      <td>0.00</td>\n",
       "      <td>failed</td>\n",
       "      <td>0</td>\n",
       "      <td>GB</td>\n",
       "      <td>0.00</td>\n",
       "      <td>0.00</td>\n",
       "      <td>1533.95</td>\n",
       "    </tr>\n",
       "    <tr>\n",
       "      <th>Greeting From Earth: ZGAC Arts Capsule For ET</th>\n",
       "      <td>1000003930</td>\n",
       "      <td>Narrative Film</td>\n",
       "      <td>Film &amp; Video</td>\n",
       "      <td>USD</td>\n",
       "      <td>2017-11-01</td>\n",
       "      <td>30000.00</td>\n",
       "      <td>2017-09-02 04:43:57</td>\n",
       "      <td>2421.00</td>\n",
       "      <td>failed</td>\n",
       "      <td>15</td>\n",
       "      <td>US</td>\n",
       "      <td>100.00</td>\n",
       "      <td>2421.00</td>\n",
       "      <td>30000.00</td>\n",
       "    </tr>\n",
       "    <tr>\n",
       "      <th>Where is Hank?</th>\n",
       "      <td>1000004038</td>\n",
       "      <td>Narrative Film</td>\n",
       "      <td>Film &amp; Video</td>\n",
       "      <td>USD</td>\n",
       "      <td>2013-02-26</td>\n",
       "      <td>45000.00</td>\n",
       "      <td>2013-01-12 00:20:50</td>\n",
       "      <td>220.00</td>\n",
       "      <td>failed</td>\n",
       "      <td>3</td>\n",
       "      <td>US</td>\n",
       "      <td>220.00</td>\n",
       "      <td>220.00</td>\n",
       "      <td>45000.00</td>\n",
       "    </tr>\n",
       "    <tr>\n",
       "      <th>ToshiCapital Rekordz Needs Help to Complete Album</th>\n",
       "      <td>1000007540</td>\n",
       "      <td>Music</td>\n",
       "      <td>Music</td>\n",
       "      <td>USD</td>\n",
       "      <td>2012-04-16</td>\n",
       "      <td>5000.00</td>\n",
       "      <td>2012-03-17 03:24:11</td>\n",
       "      <td>1.00</td>\n",
       "      <td>failed</td>\n",
       "      <td>1</td>\n",
       "      <td>US</td>\n",
       "      <td>1.00</td>\n",
       "      <td>1.00</td>\n",
       "      <td>5000.00</td>\n",
       "    </tr>\n",
       "    <tr>\n",
       "      <th>Community Film Project: The Art of Neighborhood Filmmaking</th>\n",
       "      <td>1000011046</td>\n",
       "      <td>Film &amp; Video</td>\n",
       "      <td>Film &amp; Video</td>\n",
       "      <td>USD</td>\n",
       "      <td>2015-08-29</td>\n",
       "      <td>19500.00</td>\n",
       "      <td>2015-07-04 08:35:03</td>\n",
       "      <td>1283.00</td>\n",
       "      <td>canceled</td>\n",
       "      <td>14</td>\n",
       "      <td>US</td>\n",
       "      <td>1283.00</td>\n",
       "      <td>1283.00</td>\n",
       "      <td>19500.00</td>\n",
       "    </tr>\n",
       "  </tbody>\n",
       "</table>\n",
       "</div>"
      ],
      "text/plain": [
       "                                                            ID  \\\n",
       "name                                                             \n",
       "The Songs of Adelaide & Abullah                     1000002330   \n",
       "Greeting From Earth: ZGAC Arts Capsule For ET       1000003930   \n",
       "Where is Hank?                                      1000004038   \n",
       "ToshiCapital Rekordz Needs Help to Complete Album   1000007540   \n",
       "Community Film Project: The Art of Neighborhood...  1000011046   \n",
       "\n",
       "                                                          category  \\\n",
       "name                                                                 \n",
       "The Songs of Adelaide & Abullah                             Poetry   \n",
       "Greeting From Earth: ZGAC Arts Capsule For ET       Narrative Film   \n",
       "Where is Hank?                                      Narrative Film   \n",
       "ToshiCapital Rekordz Needs Help to Complete Album            Music   \n",
       "Community Film Project: The Art of Neighborhood...    Film & Video   \n",
       "\n",
       "                                                   main_category currency  \\\n",
       "name                                                                        \n",
       "The Songs of Adelaide & Abullah                       Publishing      GBP   \n",
       "Greeting From Earth: ZGAC Arts Capsule For ET       Film & Video      USD   \n",
       "Where is Hank?                                      Film & Video      USD   \n",
       "ToshiCapital Rekordz Needs Help to Complete Album          Music      USD   \n",
       "Community Film Project: The Art of Neighborhood...  Film & Video      USD   \n",
       "\n",
       "                                                     deadline     goal  \\\n",
       "name                                                                     \n",
       "The Songs of Adelaide & Abullah                    2015-10-09  1000.00   \n",
       "Greeting From Earth: ZGAC Arts Capsule For ET      2017-11-01 30000.00   \n",
       "Where is Hank?                                     2013-02-26 45000.00   \n",
       "ToshiCapital Rekordz Needs Help to Complete Album  2012-04-16  5000.00   \n",
       "Community Film Project: The Art of Neighborhood... 2015-08-29 19500.00   \n",
       "\n",
       "                                                              launched  \\\n",
       "name                                                                     \n",
       "The Songs of Adelaide & Abullah                    2015-08-11 12:12:28   \n",
       "Greeting From Earth: ZGAC Arts Capsule For ET      2017-09-02 04:43:57   \n",
       "Where is Hank?                                     2013-01-12 00:20:50   \n",
       "ToshiCapital Rekordz Needs Help to Complete Album  2012-03-17 03:24:11   \n",
       "Community Film Project: The Art of Neighborhood... 2015-07-04 08:35:03   \n",
       "\n",
       "                                                    pledged     state  \\\n",
       "name                                                                    \n",
       "The Songs of Adelaide & Abullah                        0.00    failed   \n",
       "Greeting From Earth: ZGAC Arts Capsule For ET       2421.00    failed   \n",
       "Where is Hank?                                       220.00    failed   \n",
       "ToshiCapital Rekordz Needs Help to Complete Album      1.00    failed   \n",
       "Community Film Project: The Art of Neighborhood...  1283.00  canceled   \n",
       "\n",
       "                                                    backers country  \\\n",
       "name                                                                  \n",
       "The Songs of Adelaide & Abullah                           0      GB   \n",
       "Greeting From Earth: ZGAC Arts Capsule For ET            15      US   \n",
       "Where is Hank?                                            3      US   \n",
       "ToshiCapital Rekordz Needs Help to Complete Album         1      US   \n",
       "Community Film Project: The Art of Neighborhood...       14      US   \n",
       "\n",
       "                                                    usd pledged  \\\n",
       "name                                                              \n",
       "The Songs of Adelaide & Abullah                            0.00   \n",
       "Greeting From Earth: ZGAC Arts Capsule For ET            100.00   \n",
       "Where is Hank?                                           220.00   \n",
       "ToshiCapital Rekordz Needs Help to Complete Album          1.00   \n",
       "Community Film Project: The Art of Neighborhood...      1283.00   \n",
       "\n",
       "                                                    usd_pledged_real  \\\n",
       "name                                                                   \n",
       "The Songs of Adelaide & Abullah                                 0.00   \n",
       "Greeting From Earth: ZGAC Arts Capsule For ET                2421.00   \n",
       "Where is Hank?                                                220.00   \n",
       "ToshiCapital Rekordz Needs Help to Complete Album               1.00   \n",
       "Community Film Project: The Art of Neighborhood...           1283.00   \n",
       "\n",
       "                                                    usd_goal_real  \n",
       "name                                                               \n",
       "The Songs of Adelaide & Abullah                           1533.95  \n",
       "Greeting From Earth: ZGAC Arts Capsule For ET            30000.00  \n",
       "Where is Hank?                                           45000.00  \n",
       "ToshiCapital Rekordz Needs Help to Complete Album         5000.00  \n",
       "Community Film Project: The Art of Neighborhood...       19500.00  "
      ]
     },
     "execution_count": 34,
     "metadata": {},
     "output_type": "execute_result"
    }
   ],
   "source": [
    "# Recargamos la base de datos indicando que la columna índice será el Nombre -> (index_col=['name'])\n",
    "\n",
    "kickstarter_2018_name = pd.read_csv(BASE_DIR + \"/input/kickstarter-projects/ks-projects-201801.csv\", \n",
    "                               parse_dates=[\"deadline\",\"launched\"],\n",
    "                               index_col=['name'])\n",
    "kickstarter_2018_name[:5]"
   ]
  },
  {
   "cell_type": "code",
   "execution_count": 35,
   "metadata": {},
   "outputs": [
    {
     "data": {
      "text/html": [
       "<div>\n",
       "<style>\n",
       "    .dataframe thead tr:only-child th {\n",
       "        text-align: right;\n",
       "    }\n",
       "\n",
       "    .dataframe thead th {\n",
       "        text-align: left;\n",
       "    }\n",
       "\n",
       "    .dataframe tbody tr th {\n",
       "        vertical-align: top;\n",
       "    }\n",
       "</style>\n",
       "<table border=\"1\" class=\"dataframe\">\n",
       "  <thead>\n",
       "    <tr style=\"text-align: right;\">\n",
       "      <th></th>\n",
       "      <th>ID</th>\n",
       "      <th>category</th>\n",
       "      <th>main_category</th>\n",
       "      <th>currency</th>\n",
       "      <th>deadline</th>\n",
       "      <th>goal</th>\n",
       "      <th>launched</th>\n",
       "      <th>pledged</th>\n",
       "      <th>state</th>\n",
       "      <th>backers</th>\n",
       "      <th>country</th>\n",
       "      <th>usd pledged</th>\n",
       "      <th>usd_pledged_real</th>\n",
       "      <th>usd_goal_real</th>\n",
       "    </tr>\n",
       "    <tr>\n",
       "      <th>name</th>\n",
       "      <th></th>\n",
       "      <th></th>\n",
       "      <th></th>\n",
       "      <th></th>\n",
       "      <th></th>\n",
       "      <th></th>\n",
       "      <th></th>\n",
       "      <th></th>\n",
       "      <th></th>\n",
       "      <th></th>\n",
       "      <th></th>\n",
       "      <th></th>\n",
       "      <th></th>\n",
       "      <th></th>\n",
       "    </tr>\n",
       "  </thead>\n",
       "  <tbody>\n",
       "    <tr>\n",
       "      <th>Cancelled (Canceled)</th>\n",
       "      <td>1032645935</td>\n",
       "      <td>Design</td>\n",
       "      <td>Design</td>\n",
       "      <td>USD</td>\n",
       "      <td>2015-06-05</td>\n",
       "      <td>100000.00</td>\n",
       "      <td>2015-05-06 12:29:08</td>\n",
       "      <td>3105.00</td>\n",
       "      <td>canceled</td>\n",
       "      <td>17</td>\n",
       "      <td>US</td>\n",
       "      <td>3105.00</td>\n",
       "      <td>3105.00</td>\n",
       "      <td>100000.00</td>\n",
       "    </tr>\n",
       "    <tr>\n",
       "      <th>New EP/Music Development</th>\n",
       "      <td>1039093987</td>\n",
       "      <td>Music</td>\n",
       "      <td>Music</td>\n",
       "      <td>USD</td>\n",
       "      <td>2016-01-07</td>\n",
       "      <td>3800.00</td>\n",
       "      <td>2015-11-24 15:29:35</td>\n",
       "      <td>257.00</td>\n",
       "      <td>undefined</td>\n",
       "      <td>0</td>\n",
       "      <td>N,0\"</td>\n",
       "      <td>nan</td>\n",
       "      <td>257.00</td>\n",
       "      <td>3800.00</td>\n",
       "    </tr>\n",
       "    <tr>\n",
       "      <th>The Basement</th>\n",
       "      <td>1042208764</td>\n",
       "      <td>Horror</td>\n",
       "      <td>Film &amp; Video</td>\n",
       "      <td>USD</td>\n",
       "      <td>2015-05-07</td>\n",
       "      <td>12000.00</td>\n",
       "      <td>2015-04-07 18:24:19</td>\n",
       "      <td>12311.00</td>\n",
       "      <td>successful</td>\n",
       "      <td>106</td>\n",
       "      <td>US</td>\n",
       "      <td>12311.00</td>\n",
       "      <td>12311.00</td>\n",
       "      <td>12000.00</td>\n",
       "    </tr>\n",
       "    <tr>\n",
       "      <th>The Gift</th>\n",
       "      <td>1042642941</td>\n",
       "      <td>Film &amp; Video</td>\n",
       "      <td>Film &amp; Video</td>\n",
       "      <td>USD</td>\n",
       "      <td>2013-05-08</td>\n",
       "      <td>3000.00</td>\n",
       "      <td>2013-04-17 01:55:27</td>\n",
       "      <td>3370.00</td>\n",
       "      <td>successful</td>\n",
       "      <td>37</td>\n",
       "      <td>US</td>\n",
       "      <td>3370.00</td>\n",
       "      <td>3370.00</td>\n",
       "      <td>3000.00</td>\n",
       "    </tr>\n",
       "    <tr>\n",
       "      <th>Redemption</th>\n",
       "      <td>1044230780</td>\n",
       "      <td>Narrative Film</td>\n",
       "      <td>Film &amp; Video</td>\n",
       "      <td>USD</td>\n",
       "      <td>2012-08-25</td>\n",
       "      <td>11000.00</td>\n",
       "      <td>2012-06-26 19:13:21</td>\n",
       "      <td>11440.00</td>\n",
       "      <td>successful</td>\n",
       "      <td>67</td>\n",
       "      <td>US</td>\n",
       "      <td>11440.00</td>\n",
       "      <td>11440.00</td>\n",
       "      <td>11000.00</td>\n",
       "    </tr>\n",
       "    <tr>\n",
       "      <th>Quick Quests: TCG</th>\n",
       "      <td>1046840222</td>\n",
       "      <td>Tabletop Games</td>\n",
       "      <td>Games</td>\n",
       "      <td>USD</td>\n",
       "      <td>2016-09-01</td>\n",
       "      <td>1000.00</td>\n",
       "      <td>2016-08-20 03:31:20</td>\n",
       "      <td>436.00</td>\n",
       "      <td>failed</td>\n",
       "      <td>16</td>\n",
       "      <td>US</td>\n",
       "      <td>304.00</td>\n",
       "      <td>436.00</td>\n",
       "      <td>1000.00</td>\n",
       "    </tr>\n",
       "    <tr>\n",
       "      <th>Cosplay</th>\n",
       "      <td>105173892</td>\n",
       "      <td>Crafts</td>\n",
       "      <td>Crafts</td>\n",
       "      <td>GBP</td>\n",
       "      <td>2014-10-02</td>\n",
       "      <td>170.00</td>\n",
       "      <td>2014-08-12 16:58:11</td>\n",
       "      <td>20.00</td>\n",
       "      <td>failed</td>\n",
       "      <td>2</td>\n",
       "      <td>GB</td>\n",
       "      <td>33.56</td>\n",
       "      <td>32.13</td>\n",
       "      <td>273.13</td>\n",
       "    </tr>\n",
       "    <tr>\n",
       "      <th>In Transit</th>\n",
       "      <td>1065163304</td>\n",
       "      <td>Shorts</td>\n",
       "      <td>Film &amp; Video</td>\n",
       "      <td>USD</td>\n",
       "      <td>2013-05-30</td>\n",
       "      <td>1500.00</td>\n",
       "      <td>2013-04-30 01:20:54</td>\n",
       "      <td>1625.00</td>\n",
       "      <td>successful</td>\n",
       "      <td>40</td>\n",
       "      <td>US</td>\n",
       "      <td>1625.00</td>\n",
       "      <td>1625.00</td>\n",
       "      <td>1500.00</td>\n",
       "    </tr>\n",
       "    <tr>\n",
       "      <th>New EP/Music Development</th>\n",
       "      <td>1068645001</td>\n",
       "      <td>Rock</td>\n",
       "      <td>Music</td>\n",
       "      <td>USD</td>\n",
       "      <td>2015-04-23</td>\n",
       "      <td>3500.00</td>\n",
       "      <td>2015-03-18 16:20:34</td>\n",
       "      <td>1.00</td>\n",
       "      <td>failed</td>\n",
       "      <td>1</td>\n",
       "      <td>US</td>\n",
       "      <td>1.00</td>\n",
       "      <td>1.00</td>\n",
       "      <td>3500.00</td>\n",
       "    </tr>\n",
       "    <tr>\n",
       "      <th>The Pitch</th>\n",
       "      <td>1091088385</td>\n",
       "      <td>Shorts</td>\n",
       "      <td>Film &amp; Video</td>\n",
       "      <td>USD</td>\n",
       "      <td>2011-11-03</td>\n",
       "      <td>11000.00</td>\n",
       "      <td>2011-09-04 06:28:11</td>\n",
       "      <td>3310.00</td>\n",
       "      <td>failed</td>\n",
       "      <td>18</td>\n",
       "      <td>US</td>\n",
       "      <td>3310.00</td>\n",
       "      <td>3310.00</td>\n",
       "      <td>11000.00</td>\n",
       "    </tr>\n",
       "    <tr>\n",
       "      <th>Rise and Shine</th>\n",
       "      <td>1091891624</td>\n",
       "      <td>Documentary</td>\n",
       "      <td>Film &amp; Video</td>\n",
       "      <td>USD</td>\n",
       "      <td>2014-10-07</td>\n",
       "      <td>6000.00</td>\n",
       "      <td>2014-09-05 06:07:04</td>\n",
       "      <td>613.00</td>\n",
       "      <td>failed</td>\n",
       "      <td>20</td>\n",
       "      <td>US</td>\n",
       "      <td>613.00</td>\n",
       "      <td>613.00</td>\n",
       "      <td>6000.00</td>\n",
       "    </tr>\n",
       "    <tr>\n",
       "      <th>Nocturne</th>\n",
       "      <td>1093703020</td>\n",
       "      <td>Horror</td>\n",
       "      <td>Film &amp; Video</td>\n",
       "      <td>DKK</td>\n",
       "      <td>2017-11-19</td>\n",
       "      <td>10000.00</td>\n",
       "      <td>2017-09-20 21:46:55</td>\n",
       "      <td>1205.00</td>\n",
       "      <td>failed</td>\n",
       "      <td>4</td>\n",
       "      <td>DK</td>\n",
       "      <td>0.00</td>\n",
       "      <td>192.31</td>\n",
       "      <td>1595.91</td>\n",
       "    </tr>\n",
       "    <tr>\n",
       "      <th>Patriot Playing Cards</th>\n",
       "      <td>1095129867</td>\n",
       "      <td>Playing Cards</td>\n",
       "      <td>Games</td>\n",
       "      <td>USD</td>\n",
       "      <td>2015-03-21</td>\n",
       "      <td>8000.00</td>\n",
       "      <td>2015-02-19 16:44:45</td>\n",
       "      <td>18465.00</td>\n",
       "      <td>successful</td>\n",
       "      <td>305</td>\n",
       "      <td>US</td>\n",
       "      <td>18465.00</td>\n",
       "      <td>18465.00</td>\n",
       "      <td>8000.00</td>\n",
       "    </tr>\n",
       "    <tr>\n",
       "      <th>James vs The New World Order #3</th>\n",
       "      <td>1099580897</td>\n",
       "      <td>Graphic Novels</td>\n",
       "      <td>Comics</td>\n",
       "      <td>USD</td>\n",
       "      <td>2017-05-30</td>\n",
       "      <td>3000.00</td>\n",
       "      <td>2017-03-31 22:56:11</td>\n",
       "      <td>214.00</td>\n",
       "      <td>canceled</td>\n",
       "      <td>7</td>\n",
       "      <td>US</td>\n",
       "      <td>28.00</td>\n",
       "      <td>214.00</td>\n",
       "      <td>3000.00</td>\n",
       "    </tr>\n",
       "    <tr>\n",
       "      <th>New EP/Music Development</th>\n",
       "      <td>1108565605</td>\n",
       "      <td>Music</td>\n",
       "      <td>Music</td>\n",
       "      <td>USD</td>\n",
       "      <td>2016-01-28</td>\n",
       "      <td>3000.00</td>\n",
       "      <td>2015-12-21 20:39:56</td>\n",
       "      <td>40.00</td>\n",
       "      <td>undefined</td>\n",
       "      <td>0</td>\n",
       "      <td>N,0\"</td>\n",
       "      <td>nan</td>\n",
       "      <td>40.00</td>\n",
       "      <td>3000.00</td>\n",
       "    </tr>\n",
       "    <tr>\n",
       "      <th>A Midsummer Night's Dream</th>\n",
       "      <td>1110524608</td>\n",
       "      <td>Fantasy</td>\n",
       "      <td>Film &amp; Video</td>\n",
       "      <td>USD</td>\n",
       "      <td>2015-08-20</td>\n",
       "      <td>50000.00</td>\n",
       "      <td>2015-06-21 08:36:59</td>\n",
       "      <td>425.00</td>\n",
       "      <td>failed</td>\n",
       "      <td>9</td>\n",
       "      <td>US</td>\n",
       "      <td>425.00</td>\n",
       "      <td>425.00</td>\n",
       "      <td>50000.00</td>\n",
       "    </tr>\n",
       "    <tr>\n",
       "      <th>Campaign Trail</th>\n",
       "      <td>1112849141</td>\n",
       "      <td>Film &amp; Video</td>\n",
       "      <td>Film &amp; Video</td>\n",
       "      <td>USD</td>\n",
       "      <td>2016-01-06</td>\n",
       "      <td>15000.00</td>\n",
       "      <td>2015-12-07 22:06:57</td>\n",
       "      <td>0.00</td>\n",
       "      <td>failed</td>\n",
       "      <td>0</td>\n",
       "      <td>US</td>\n",
       "      <td>0.00</td>\n",
       "      <td>0.00</td>\n",
       "      <td>15000.00</td>\n",
       "    </tr>\n",
       "    <tr>\n",
       "      <th>After</th>\n",
       "      <td>111541460</td>\n",
       "      <td>Video Games</td>\n",
       "      <td>Games</td>\n",
       "      <td>GBP</td>\n",
       "      <td>2016-01-06</td>\n",
       "      <td>45000.00</td>\n",
       "      <td>2015-12-07 12:46:57</td>\n",
       "      <td>26.00</td>\n",
       "      <td>failed</td>\n",
       "      <td>3</td>\n",
       "      <td>GB</td>\n",
       "      <td>39.29</td>\n",
       "      <td>37.89</td>\n",
       "      <td>65586.19</td>\n",
       "    </tr>\n",
       "    <tr>\n",
       "      <th>New EP/Music Development</th>\n",
       "      <td>1117967622</td>\n",
       "      <td>Music</td>\n",
       "      <td>Music</td>\n",
       "      <td>USD</td>\n",
       "      <td>2015-12-14</td>\n",
       "      <td>3000.00</td>\n",
       "      <td>2015-11-09 18:46:47</td>\n",
       "      <td>431.00</td>\n",
       "      <td>undefined</td>\n",
       "      <td>0</td>\n",
       "      <td>N,0\"</td>\n",
       "      <td>nan</td>\n",
       "      <td>431.00</td>\n",
       "      <td>3000.00</td>\n",
       "    </tr>\n",
       "    <tr>\n",
       "      <th>New EP / Music Development</th>\n",
       "      <td>1133848525</td>\n",
       "      <td>Rock</td>\n",
       "      <td>Music</td>\n",
       "      <td>USD</td>\n",
       "      <td>2015-04-23</td>\n",
       "      <td>3000.00</td>\n",
       "      <td>2015-03-18 20:44:32</td>\n",
       "      <td>517.00</td>\n",
       "      <td>failed</td>\n",
       "      <td>13</td>\n",
       "      <td>US</td>\n",
       "      <td>517.00</td>\n",
       "      <td>517.00</td>\n",
       "      <td>3000.00</td>\n",
       "    </tr>\n",
       "    <tr>\n",
       "      <th>A Big Dream of a Little Man - Alex Oddman's Debute Album</th>\n",
       "      <td>114051591</td>\n",
       "      <td>Pop</td>\n",
       "      <td>Music</td>\n",
       "      <td>USD</td>\n",
       "      <td>2017-01-18</td>\n",
       "      <td>5200.00</td>\n",
       "      <td>2016-12-19 16:05:07</td>\n",
       "      <td>10.00</td>\n",
       "      <td>canceled</td>\n",
       "      <td>1</td>\n",
       "      <td>US</td>\n",
       "      <td>10.00</td>\n",
       "      <td>10.00</td>\n",
       "      <td>5200.00</td>\n",
       "    </tr>\n",
       "    <tr>\n",
       "      <th>College Life</th>\n",
       "      <td>1140529082</td>\n",
       "      <td>Film &amp; Video</td>\n",
       "      <td>Film &amp; Video</td>\n",
       "      <td>USD</td>\n",
       "      <td>2012-12-21</td>\n",
       "      <td>3500.00</td>\n",
       "      <td>2012-10-22 22:41:20</td>\n",
       "      <td>3500.00</td>\n",
       "      <td>successful</td>\n",
       "      <td>22</td>\n",
       "      <td>US</td>\n",
       "      <td>3500.00</td>\n",
       "      <td>3500.00</td>\n",
       "      <td>3500.00</td>\n",
       "    </tr>\n",
       "    <tr>\n",
       "      <th>Free</th>\n",
       "      <td>1143724924</td>\n",
       "      <td>Faith</td>\n",
       "      <td>Music</td>\n",
       "      <td>USD</td>\n",
       "      <td>2015-07-12</td>\n",
       "      <td>10500.00</td>\n",
       "      <td>2015-06-12 07:48:21</td>\n",
       "      <td>75.00</td>\n",
       "      <td>failed</td>\n",
       "      <td>2</td>\n",
       "      <td>US</td>\n",
       "      <td>75.00</td>\n",
       "      <td>75.00</td>\n",
       "      <td>10500.00</td>\n",
       "    </tr>\n",
       "    <tr>\n",
       "      <th>Fearless</th>\n",
       "      <td>1145594770</td>\n",
       "      <td>Festivals</td>\n",
       "      <td>Theater</td>\n",
       "      <td>USD</td>\n",
       "      <td>2014-07-20</td>\n",
       "      <td>4000.00</td>\n",
       "      <td>2014-06-23 04:36:34</td>\n",
       "      <td>4205.00</td>\n",
       "      <td>successful</td>\n",
       "      <td>49</td>\n",
       "      <td>US</td>\n",
       "      <td>4205.00</td>\n",
       "      <td>4205.00</td>\n",
       "      <td>4000.00</td>\n",
       "    </tr>\n",
       "    <tr>\n",
       "      <th>Nostalgia</th>\n",
       "      <td>1149366761</td>\n",
       "      <td>Film &amp; Video</td>\n",
       "      <td>Film &amp; Video</td>\n",
       "      <td>USD</td>\n",
       "      <td>2015-03-09</td>\n",
       "      <td>65000.00</td>\n",
       "      <td>2015-01-08 16:19:37</td>\n",
       "      <td>0.00</td>\n",
       "      <td>failed</td>\n",
       "      <td>0</td>\n",
       "      <td>US</td>\n",
       "      <td>0.00</td>\n",
       "      <td>0.00</td>\n",
       "      <td>65000.00</td>\n",
       "    </tr>\n",
       "    <tr>\n",
       "      <th>Take Me Home</th>\n",
       "      <td>1160984110</td>\n",
       "      <td>Narrative Film</td>\n",
       "      <td>Film &amp; Video</td>\n",
       "      <td>USD</td>\n",
       "      <td>2016-12-02</td>\n",
       "      <td>8500.00</td>\n",
       "      <td>2016-11-02 19:17:00</td>\n",
       "      <td>8670.33</td>\n",
       "      <td>successful</td>\n",
       "      <td>71</td>\n",
       "      <td>US</td>\n",
       "      <td>1248.59</td>\n",
       "      <td>8670.33</td>\n",
       "      <td>8500.00</td>\n",
       "    </tr>\n",
       "    <tr>\n",
       "      <th>Stray</th>\n",
       "      <td>1164784536</td>\n",
       "      <td>Video Games</td>\n",
       "      <td>Games</td>\n",
       "      <td>USD</td>\n",
       "      <td>2016-03-31</td>\n",
       "      <td>10000.00</td>\n",
       "      <td>2016-02-29 16:27:44</td>\n",
       "      <td>542.00</td>\n",
       "      <td>failed</td>\n",
       "      <td>26</td>\n",
       "      <td>US</td>\n",
       "      <td>542.00</td>\n",
       "      <td>542.00</td>\n",
       "      <td>10000.00</td>\n",
       "    </tr>\n",
       "    <tr>\n",
       "      <th>Locked Memories</th>\n",
       "      <td>1172315905</td>\n",
       "      <td>Fine Art</td>\n",
       "      <td>Photography</td>\n",
       "      <td>USD</td>\n",
       "      <td>2016-04-11</td>\n",
       "      <td>2500.00</td>\n",
       "      <td>2016-03-12 23:12:52</td>\n",
       "      <td>194.00</td>\n",
       "      <td>failed</td>\n",
       "      <td>4</td>\n",
       "      <td>US</td>\n",
       "      <td>194.00</td>\n",
       "      <td>194.00</td>\n",
       "      <td>2500.00</td>\n",
       "    </tr>\n",
       "    <tr>\n",
       "      <th>Paradox</th>\n",
       "      <td>1172995417</td>\n",
       "      <td>Video Games</td>\n",
       "      <td>Games</td>\n",
       "      <td>USD</td>\n",
       "      <td>2017-08-21</td>\n",
       "      <td>5000.00</td>\n",
       "      <td>2017-07-22 03:02:38</td>\n",
       "      <td>111.00</td>\n",
       "      <td>canceled</td>\n",
       "      <td>8</td>\n",
       "      <td>US</td>\n",
       "      <td>111.00</td>\n",
       "      <td>111.00</td>\n",
       "      <td>5000.00</td>\n",
       "    </tr>\n",
       "    <tr>\n",
       "      <th>Remnant</th>\n",
       "      <td>1175104126</td>\n",
       "      <td>Shorts</td>\n",
       "      <td>Film &amp; Video</td>\n",
       "      <td>USD</td>\n",
       "      <td>2012-01-07</td>\n",
       "      <td>2200.00</td>\n",
       "      <td>2011-12-23 15:56:03</td>\n",
       "      <td>4092.00</td>\n",
       "      <td>successful</td>\n",
       "      <td>104</td>\n",
       "      <td>US</td>\n",
       "      <td>4092.00</td>\n",
       "      <td>4092.00</td>\n",
       "      <td>2200.00</td>\n",
       "    </tr>\n",
       "    <tr>\n",
       "      <th>...</th>\n",
       "      <td>...</td>\n",
       "      <td>...</td>\n",
       "      <td>...</td>\n",
       "      <td>...</td>\n",
       "      <td>...</td>\n",
       "      <td>...</td>\n",
       "      <td>...</td>\n",
       "      <td>...</td>\n",
       "      <td>...</td>\n",
       "      <td>...</td>\n",
       "      <td>...</td>\n",
       "      <td>...</td>\n",
       "      <td>...</td>\n",
       "      <td>...</td>\n",
       "    </tr>\n",
       "    <tr>\n",
       "      <th>High Frontier</th>\n",
       "      <td>988679902</td>\n",
       "      <td>Space Exploration</td>\n",
       "      <td>Technology</td>\n",
       "      <td>USD</td>\n",
       "      <td>2014-11-26</td>\n",
       "      <td>10000.00</td>\n",
       "      <td>2014-10-27 15:24:20</td>\n",
       "      <td>13630.00</td>\n",
       "      <td>successful</td>\n",
       "      <td>319</td>\n",
       "      <td>US</td>\n",
       "      <td>13630.00</td>\n",
       "      <td>13630.00</td>\n",
       "      <td>10000.00</td>\n",
       "    </tr>\n",
       "    <tr>\n",
       "      <th>World War 3 (Canceled)</th>\n",
       "      <td>989185350</td>\n",
       "      <td>Playing Cards</td>\n",
       "      <td>Games</td>\n",
       "      <td>USD</td>\n",
       "      <td>2014-08-15</td>\n",
       "      <td>1000.00</td>\n",
       "      <td>2014-06-16 08:44:03</td>\n",
       "      <td>0.00</td>\n",
       "      <td>canceled</td>\n",
       "      <td>0</td>\n",
       "      <td>US</td>\n",
       "      <td>0.00</td>\n",
       "      <td>0.00</td>\n",
       "      <td>1000.00</td>\n",
       "    </tr>\n",
       "    <tr>\n",
       "      <th>The Bottom Line</th>\n",
       "      <td>989284544</td>\n",
       "      <td>Apparel</td>\n",
       "      <td>Fashion</td>\n",
       "      <td>USD</td>\n",
       "      <td>2016-04-01</td>\n",
       "      <td>8000.00</td>\n",
       "      <td>2016-03-02 04:49:06</td>\n",
       "      <td>15.00</td>\n",
       "      <td>failed</td>\n",
       "      <td>3</td>\n",
       "      <td>US</td>\n",
       "      <td>15.00</td>\n",
       "      <td>15.00</td>\n",
       "      <td>8000.00</td>\n",
       "    </tr>\n",
       "    <tr>\n",
       "      <th>The Professor</th>\n",
       "      <td>989533806</td>\n",
       "      <td>Shorts</td>\n",
       "      <td>Film &amp; Video</td>\n",
       "      <td>USD</td>\n",
       "      <td>2012-12-08</td>\n",
       "      <td>1000.00</td>\n",
       "      <td>2012-11-08 22:18:02</td>\n",
       "      <td>1530.00</td>\n",
       "      <td>successful</td>\n",
       "      <td>43</td>\n",
       "      <td>US</td>\n",
       "      <td>1530.00</td>\n",
       "      <td>1530.00</td>\n",
       "      <td>1000.00</td>\n",
       "    </tr>\n",
       "    <tr>\n",
       "      <th>Basketball Bags for Athletes: The Game Bag</th>\n",
       "      <td>990428360</td>\n",
       "      <td>Product Design</td>\n",
       "      <td>Design</td>\n",
       "      <td>USD</td>\n",
       "      <td>2016-10-15</td>\n",
       "      <td>15000.00</td>\n",
       "      <td>2016-08-16 20:43:20</td>\n",
       "      <td>15744.00</td>\n",
       "      <td>successful</td>\n",
       "      <td>82</td>\n",
       "      <td>US</td>\n",
       "      <td>1550.00</td>\n",
       "      <td>15744.00</td>\n",
       "      <td>15000.00</td>\n",
       "    </tr>\n",
       "    <tr>\n",
       "      <th>Battle For Enkeon: A new turn-based sci-fi shooter for PC</th>\n",
       "      <td>991060007</td>\n",
       "      <td>Video Games</td>\n",
       "      <td>Games</td>\n",
       "      <td>GBP</td>\n",
       "      <td>2017-08-25</td>\n",
       "      <td>15000.00</td>\n",
       "      <td>2017-07-26 10:47:09</td>\n",
       "      <td>0.00</td>\n",
       "      <td>canceled</td>\n",
       "      <td>0</td>\n",
       "      <td>GB</td>\n",
       "      <td>0.00</td>\n",
       "      <td>0.00</td>\n",
       "      <td>19234.71</td>\n",
       "    </tr>\n",
       "    <tr>\n",
       "      <th>MFA Thesis Exhibition</th>\n",
       "      <td>991348317</td>\n",
       "      <td>Art</td>\n",
       "      <td>Art</td>\n",
       "      <td>USD</td>\n",
       "      <td>2012-11-06</td>\n",
       "      <td>1000.00</td>\n",
       "      <td>2012-10-07 23:10:22</td>\n",
       "      <td>1080.00</td>\n",
       "      <td>successful</td>\n",
       "      <td>25</td>\n",
       "      <td>US</td>\n",
       "      <td>1080.00</td>\n",
       "      <td>1080.00</td>\n",
       "      <td>1000.00</td>\n",
       "    </tr>\n",
       "    <tr>\n",
       "      <th>Benjamin's Fate - Classic Action Adventure RPG</th>\n",
       "      <td>991908167</td>\n",
       "      <td>Video Games</td>\n",
       "      <td>Games</td>\n",
       "      <td>USD</td>\n",
       "      <td>2017-05-01</td>\n",
       "      <td>5200.00</td>\n",
       "      <td>2017-04-01 10:40:20</td>\n",
       "      <td>152.00</td>\n",
       "      <td>failed</td>\n",
       "      <td>8</td>\n",
       "      <td>US</td>\n",
       "      <td>30.00</td>\n",
       "      <td>152.00</td>\n",
       "      <td>5200.00</td>\n",
       "    </tr>\n",
       "    <tr>\n",
       "      <th>The Line</th>\n",
       "      <td>992276423</td>\n",
       "      <td>Shorts</td>\n",
       "      <td>Film &amp; Video</td>\n",
       "      <td>USD</td>\n",
       "      <td>2014-03-18</td>\n",
       "      <td>1500.00</td>\n",
       "      <td>2014-03-05 00:28:22</td>\n",
       "      <td>150.00</td>\n",
       "      <td>failed</td>\n",
       "      <td>6</td>\n",
       "      <td>US</td>\n",
       "      <td>150.00</td>\n",
       "      <td>150.00</td>\n",
       "      <td>1500.00</td>\n",
       "    </tr>\n",
       "    <tr>\n",
       "      <th>The Other Side</th>\n",
       "      <td>992433345</td>\n",
       "      <td>Film &amp; Video</td>\n",
       "      <td>Film &amp; Video</td>\n",
       "      <td>USD</td>\n",
       "      <td>2012-09-13</td>\n",
       "      <td>35000.00</td>\n",
       "      <td>2012-08-14 06:00:51</td>\n",
       "      <td>0.00</td>\n",
       "      <td>failed</td>\n",
       "      <td>0</td>\n",
       "      <td>US</td>\n",
       "      <td>0.00</td>\n",
       "      <td>0.00</td>\n",
       "      <td>35000.00</td>\n",
       "    </tr>\n",
       "    <tr>\n",
       "      <th>Recording Project</th>\n",
       "      <td>993222832</td>\n",
       "      <td>Music</td>\n",
       "      <td>Music</td>\n",
       "      <td>USD</td>\n",
       "      <td>2012-02-23</td>\n",
       "      <td>1200.00</td>\n",
       "      <td>2012-01-24 06:55:38</td>\n",
       "      <td>2002.00</td>\n",
       "      <td>successful</td>\n",
       "      <td>48</td>\n",
       "      <td>US</td>\n",
       "      <td>2002.00</td>\n",
       "      <td>2002.00</td>\n",
       "      <td>1200.00</td>\n",
       "    </tr>\n",
       "    <tr>\n",
       "      <th>Custom End Grain Cutting Boards</th>\n",
       "      <td>993891493</td>\n",
       "      <td>Woodworking</td>\n",
       "      <td>Crafts</td>\n",
       "      <td>USD</td>\n",
       "      <td>2016-03-05</td>\n",
       "      <td>1500.00</td>\n",
       "      <td>2016-02-04 06:41:05</td>\n",
       "      <td>285.00</td>\n",
       "      <td>failed</td>\n",
       "      <td>1</td>\n",
       "      <td>US</td>\n",
       "      <td>285.00</td>\n",
       "      <td>285.00</td>\n",
       "      <td>1500.00</td>\n",
       "    </tr>\n",
       "    <tr>\n",
       "      <th>The Last Man</th>\n",
       "      <td>994873119</td>\n",
       "      <td>Indie Rock</td>\n",
       "      <td>Music</td>\n",
       "      <td>USD</td>\n",
       "      <td>2014-11-23</td>\n",
       "      <td>5000.00</td>\n",
       "      <td>2014-10-24 01:56:23</td>\n",
       "      <td>5476.23</td>\n",
       "      <td>successful</td>\n",
       "      <td>97</td>\n",
       "      <td>US</td>\n",
       "      <td>5476.23</td>\n",
       "      <td>5476.23</td>\n",
       "      <td>5000.00</td>\n",
       "    </tr>\n",
       "    <tr>\n",
       "      <th>In His Image</th>\n",
       "      <td>995305549</td>\n",
       "      <td>Couture</td>\n",
       "      <td>Fashion</td>\n",
       "      <td>USD</td>\n",
       "      <td>2015-07-23</td>\n",
       "      <td>150000.00</td>\n",
       "      <td>2015-06-23 00:27:41</td>\n",
       "      <td>0.00</td>\n",
       "      <td>failed</td>\n",
       "      <td>0</td>\n",
       "      <td>US</td>\n",
       "      <td>0.00</td>\n",
       "      <td>0.00</td>\n",
       "      <td>150000.00</td>\n",
       "    </tr>\n",
       "    <tr>\n",
       "      <th>Stötta Vandringsbloggen Community</th>\n",
       "      <td>995318657</td>\n",
       "      <td>Publishing</td>\n",
       "      <td>Publishing</td>\n",
       "      <td>SEK</td>\n",
       "      <td>2016-12-31</td>\n",
       "      <td>30000.00</td>\n",
       "      <td>2016-11-20 00:14:36</td>\n",
       "      <td>100.00</td>\n",
       "      <td>canceled</td>\n",
       "      <td>2</td>\n",
       "      <td>SE</td>\n",
       "      <td>10.81</td>\n",
       "      <td>11.09</td>\n",
       "      <td>3325.87</td>\n",
       "    </tr>\n",
       "    <tr>\n",
       "      <th>Bad Parking Business Cards</th>\n",
       "      <td>995706086</td>\n",
       "      <td>Graphic Design</td>\n",
       "      <td>Design</td>\n",
       "      <td>USD</td>\n",
       "      <td>2013-09-24</td>\n",
       "      <td>500.00</td>\n",
       "      <td>2013-09-09 18:34:07</td>\n",
       "      <td>1184.00</td>\n",
       "      <td>successful</td>\n",
       "      <td>71</td>\n",
       "      <td>US</td>\n",
       "      <td>1184.00</td>\n",
       "      <td>1184.00</td>\n",
       "      <td>500.00</td>\n",
       "    </tr>\n",
       "    <tr>\n",
       "      <th>Romeo &amp; Juliet</th>\n",
       "      <td>99598621</td>\n",
       "      <td>Plays</td>\n",
       "      <td>Theater</td>\n",
       "      <td>USD</td>\n",
       "      <td>2017-09-18</td>\n",
       "      <td>3000.00</td>\n",
       "      <td>2017-08-31 16:02:20</td>\n",
       "      <td>3061.00</td>\n",
       "      <td>successful</td>\n",
       "      <td>60</td>\n",
       "      <td>US</td>\n",
       "      <td>200.00</td>\n",
       "      <td>3061.00</td>\n",
       "      <td>3000.00</td>\n",
       "    </tr>\n",
       "    <tr>\n",
       "      <th>\"On The Road\"</th>\n",
       "      <td>996180421</td>\n",
       "      <td>Webseries</td>\n",
       "      <td>Film &amp; Video</td>\n",
       "      <td>USD</td>\n",
       "      <td>2015-01-22</td>\n",
       "      <td>80000.00</td>\n",
       "      <td>2014-12-23 17:31:06</td>\n",
       "      <td>0.00</td>\n",
       "      <td>failed</td>\n",
       "      <td>0</td>\n",
       "      <td>US</td>\n",
       "      <td>0.00</td>\n",
       "      <td>0.00</td>\n",
       "      <td>80000.00</td>\n",
       "    </tr>\n",
       "    <tr>\n",
       "      <th>Ready Set Train! - The workoutgame</th>\n",
       "      <td>996222702</td>\n",
       "      <td>Games</td>\n",
       "      <td>Games</td>\n",
       "      <td>EUR</td>\n",
       "      <td>2017-06-30</td>\n",
       "      <td>5000.00</td>\n",
       "      <td>2017-05-31 23:56:49</td>\n",
       "      <td>65.00</td>\n",
       "      <td>failed</td>\n",
       "      <td>5</td>\n",
       "      <td>NL</td>\n",
       "      <td>53.40</td>\n",
       "      <td>74.18</td>\n",
       "      <td>5706.00</td>\n",
       "    </tr>\n",
       "    <tr>\n",
       "      <th>The Last Straw</th>\n",
       "      <td>996769069</td>\n",
       "      <td>Photography</td>\n",
       "      <td>Photography</td>\n",
       "      <td>GBP</td>\n",
       "      <td>2016-12-07</td>\n",
       "      <td>650.00</td>\n",
       "      <td>2016-11-06 22:08:44</td>\n",
       "      <td>650.00</td>\n",
       "      <td>successful</td>\n",
       "      <td>15</td>\n",
       "      <td>GB</td>\n",
       "      <td>0.00</td>\n",
       "      <td>817.70</td>\n",
       "      <td>817.70</td>\n",
       "    </tr>\n",
       "    <tr>\n",
       "      <th>Dead Inside</th>\n",
       "      <td>996953473</td>\n",
       "      <td>Shorts</td>\n",
       "      <td>Film &amp; Video</td>\n",
       "      <td>USD</td>\n",
       "      <td>2011-04-02</td>\n",
       "      <td>5000.00</td>\n",
       "      <td>2011-01-25 18:57:37</td>\n",
       "      <td>0.00</td>\n",
       "      <td>failed</td>\n",
       "      <td>0</td>\n",
       "      <td>US</td>\n",
       "      <td>0.00</td>\n",
       "      <td>0.00</td>\n",
       "      <td>5000.00</td>\n",
       "    </tr>\n",
       "    <tr>\n",
       "      <th>The Long Haul</th>\n",
       "      <td>99698963</td>\n",
       "      <td>Webseries</td>\n",
       "      <td>Film &amp; Video</td>\n",
       "      <td>USD</td>\n",
       "      <td>2015-03-07</td>\n",
       "      <td>10000.00</td>\n",
       "      <td>2015-02-05 21:26:59</td>\n",
       "      <td>101.00</td>\n",
       "      <td>failed</td>\n",
       "      <td>2</td>\n",
       "      <td>US</td>\n",
       "      <td>101.00</td>\n",
       "      <td>101.00</td>\n",
       "      <td>10000.00</td>\n",
       "    </tr>\n",
       "    <tr>\n",
       "      <th>Lie Detector App</th>\n",
       "      <td>997076604</td>\n",
       "      <td>Apps</td>\n",
       "      <td>Technology</td>\n",
       "      <td>USD</td>\n",
       "      <td>2015-03-12</td>\n",
       "      <td>10000.00</td>\n",
       "      <td>2015-02-10 12:05:18</td>\n",
       "      <td>0.00</td>\n",
       "      <td>failed</td>\n",
       "      <td>0</td>\n",
       "      <td>US</td>\n",
       "      <td>0.00</td>\n",
       "      <td>0.00</td>\n",
       "      <td>10000.00</td>\n",
       "    </tr>\n",
       "    <tr>\n",
       "      <th>Ambrosia</th>\n",
       "      <td>997399480</td>\n",
       "      <td>Tabletop Games</td>\n",
       "      <td>Games</td>\n",
       "      <td>EUR</td>\n",
       "      <td>2016-11-08</td>\n",
       "      <td>20000.00</td>\n",
       "      <td>2016-10-11 15:56:39</td>\n",
       "      <td>4074.00</td>\n",
       "      <td>failed</td>\n",
       "      <td>85</td>\n",
       "      <td>BE</td>\n",
       "      <td>1430.41</td>\n",
       "      <td>4442.31</td>\n",
       "      <td>21808.11</td>\n",
       "    </tr>\n",
       "    <tr>\n",
       "      <th>Aporia</th>\n",
       "      <td>99754004</td>\n",
       "      <td>Music</td>\n",
       "      <td>Music</td>\n",
       "      <td>USD</td>\n",
       "      <td>2017-09-17</td>\n",
       "      <td>1500.00</td>\n",
       "      <td>2017-08-26 17:59:06</td>\n",
       "      <td>1715.00</td>\n",
       "      <td>successful</td>\n",
       "      <td>53</td>\n",
       "      <td>US</td>\n",
       "      <td>865.00</td>\n",
       "      <td>1715.00</td>\n",
       "      <td>1500.00</td>\n",
       "    </tr>\n",
       "    <tr>\n",
       "      <th>Innocent Sin</th>\n",
       "      <td>997542782</td>\n",
       "      <td>Indie Rock</td>\n",
       "      <td>Music</td>\n",
       "      <td>USD</td>\n",
       "      <td>2015-01-25</td>\n",
       "      <td>300.00</td>\n",
       "      <td>2014-12-26 18:04:28</td>\n",
       "      <td>600.00</td>\n",
       "      <td>successful</td>\n",
       "      <td>15</td>\n",
       "      <td>US</td>\n",
       "      <td>600.00</td>\n",
       "      <td>600.00</td>\n",
       "      <td>300.00</td>\n",
       "    </tr>\n",
       "    <tr>\n",
       "      <th>Grassroots</th>\n",
       "      <td>997919903</td>\n",
       "      <td>Publishing</td>\n",
       "      <td>Publishing</td>\n",
       "      <td>EUR</td>\n",
       "      <td>2017-09-14</td>\n",
       "      <td>10000.00</td>\n",
       "      <td>2017-08-15 18:36:18</td>\n",
       "      <td>21.00</td>\n",
       "      <td>failed</td>\n",
       "      <td>3</td>\n",
       "      <td>IE</td>\n",
       "      <td>0.00</td>\n",
       "      <td>25.12</td>\n",
       "      <td>11963.01</td>\n",
       "    </tr>\n",
       "    <tr>\n",
       "      <th>The InAction</th>\n",
       "      <td>998836498</td>\n",
       "      <td>Camera Equipment</td>\n",
       "      <td>Technology</td>\n",
       "      <td>USD</td>\n",
       "      <td>2016-07-29</td>\n",
       "      <td>80000.00</td>\n",
       "      <td>2016-06-28 04:00:08</td>\n",
       "      <td>670.00</td>\n",
       "      <td>canceled</td>\n",
       "      <td>5</td>\n",
       "      <td>US</td>\n",
       "      <td>410.00</td>\n",
       "      <td>670.00</td>\n",
       "      <td>80000.00</td>\n",
       "    </tr>\n",
       "    <tr>\n",
       "      <th>The Last Hurrah</th>\n",
       "      <td>999055513</td>\n",
       "      <td>Rock</td>\n",
       "      <td>Music</td>\n",
       "      <td>USD</td>\n",
       "      <td>2012-06-03</td>\n",
       "      <td>5500.00</td>\n",
       "      <td>2012-05-04 15:20:41</td>\n",
       "      <td>7665.00</td>\n",
       "      <td>successful</td>\n",
       "      <td>69</td>\n",
       "      <td>US</td>\n",
       "      <td>7665.00</td>\n",
       "      <td>7665.00</td>\n",
       "      <td>5500.00</td>\n",
       "    </tr>\n",
       "    <tr>\n",
       "      <th>Guilt</th>\n",
       "      <td>999410766</td>\n",
       "      <td>Shorts</td>\n",
       "      <td>Film &amp; Video</td>\n",
       "      <td>USD</td>\n",
       "      <td>2014-05-16</td>\n",
       "      <td>65000.00</td>\n",
       "      <td>2014-04-16 17:45:46</td>\n",
       "      <td>791.00</td>\n",
       "      <td>failed</td>\n",
       "      <td>7</td>\n",
       "      <td>US</td>\n",
       "      <td>791.00</td>\n",
       "      <td>791.00</td>\n",
       "      <td>65000.00</td>\n",
       "    </tr>\n",
       "  </tbody>\n",
       "</table>\n",
       "<p>2896 rows × 14 columns</p>\n",
       "</div>"
      ],
      "text/plain": [
       "                                                            ID  \\\n",
       "name                                                             \n",
       "Cancelled (Canceled)                                1032645935   \n",
       "New EP/Music Development                            1039093987   \n",
       "The Basement                                        1042208764   \n",
       "The Gift                                            1042642941   \n",
       "Redemption                                          1044230780   \n",
       "Quick Quests: TCG                                   1046840222   \n",
       "Cosplay                                              105173892   \n",
       "In Transit                                          1065163304   \n",
       "New EP/Music Development                            1068645001   \n",
       "The Pitch                                           1091088385   \n",
       "Rise and Shine                                      1091891624   \n",
       "Nocturne                                            1093703020   \n",
       "Patriot Playing Cards                               1095129867   \n",
       "James vs The New World Order #3                     1099580897   \n",
       "New EP/Music Development                            1108565605   \n",
       "A Midsummer Night's Dream                           1110524608   \n",
       "Campaign Trail                                      1112849141   \n",
       "After                                                111541460   \n",
       "New EP/Music Development                            1117967622   \n",
       "New EP / Music Development                          1133848525   \n",
       "A Big Dream of a Little Man - Alex Oddman's Deb...   114051591   \n",
       "College Life                                        1140529082   \n",
       "Free                                                1143724924   \n",
       "Fearless                                            1145594770   \n",
       "Nostalgia                                           1149366761   \n",
       "Take Me Home                                        1160984110   \n",
       "Stray                                               1164784536   \n",
       "Locked Memories                                     1172315905   \n",
       "Paradox                                             1172995417   \n",
       "Remnant                                             1175104126   \n",
       "...                                                        ...   \n",
       "High Frontier                                        988679902   \n",
       "World War 3 (Canceled)                               989185350   \n",
       "The Bottom Line                                      989284544   \n",
       "The Professor                                        989533806   \n",
       "Basketball Bags for Athletes: The Game Bag           990428360   \n",
       "Battle For Enkeon: A new turn-based sci-fi shoo...   991060007   \n",
       "MFA Thesis Exhibition                                991348317   \n",
       "Benjamin's Fate - Classic Action Adventure RPG       991908167   \n",
       "The Line                                             992276423   \n",
       "The Other Side                                       992433345   \n",
       "Recording Project                                    993222832   \n",
       "Custom End Grain Cutting Boards                      993891493   \n",
       "The Last Man                                         994873119   \n",
       "In His Image                                         995305549   \n",
       "Stötta Vandringsbloggen Community                    995318657   \n",
       "Bad Parking Business Cards                           995706086   \n",
       "Romeo & Juliet                                        99598621   \n",
       "\"On The Road\"                                        996180421   \n",
       "Ready Set Train! - The workoutgame                   996222702   \n",
       "The Last Straw                                       996769069   \n",
       "Dead Inside                                          996953473   \n",
       "The Long Haul                                         99698963   \n",
       "Lie Detector App                                     997076604   \n",
       "Ambrosia                                             997399480   \n",
       "Aporia                                                99754004   \n",
       "Innocent Sin                                         997542782   \n",
       "Grassroots                                           997919903   \n",
       "The InAction                                         998836498   \n",
       "The Last Hurrah                                      999055513   \n",
       "Guilt                                                999410766   \n",
       "\n",
       "                                                             category  \\\n",
       "name                                                                    \n",
       "Cancelled (Canceled)                                           Design   \n",
       "New EP/Music Development                                        Music   \n",
       "The Basement                                                   Horror   \n",
       "The Gift                                                 Film & Video   \n",
       "Redemption                                             Narrative Film   \n",
       "Quick Quests: TCG                                      Tabletop Games   \n",
       "Cosplay                                                        Crafts   \n",
       "In Transit                                                     Shorts   \n",
       "New EP/Music Development                                         Rock   \n",
       "The Pitch                                                      Shorts   \n",
       "Rise and Shine                                            Documentary   \n",
       "Nocturne                                                       Horror   \n",
       "Patriot Playing Cards                                   Playing Cards   \n",
       "James vs The New World Order #3                        Graphic Novels   \n",
       "New EP/Music Development                                        Music   \n",
       "A Midsummer Night's Dream                                     Fantasy   \n",
       "Campaign Trail                                           Film & Video   \n",
       "After                                                     Video Games   \n",
       "New EP/Music Development                                        Music   \n",
       "New EP / Music Development                                       Rock   \n",
       "A Big Dream of a Little Man - Alex Oddman's Deb...                Pop   \n",
       "College Life                                             Film & Video   \n",
       "Free                                                            Faith   \n",
       "Fearless                                                    Festivals   \n",
       "Nostalgia                                                Film & Video   \n",
       "Take Me Home                                           Narrative Film   \n",
       "Stray                                                     Video Games   \n",
       "Locked Memories                                              Fine Art   \n",
       "Paradox                                                   Video Games   \n",
       "Remnant                                                        Shorts   \n",
       "...                                                               ...   \n",
       "High Frontier                                       Space Exploration   \n",
       "World War 3 (Canceled)                                  Playing Cards   \n",
       "The Bottom Line                                               Apparel   \n",
       "The Professor                                                  Shorts   \n",
       "Basketball Bags for Athletes: The Game Bag             Product Design   \n",
       "Battle For Enkeon: A new turn-based sci-fi shoo...        Video Games   \n",
       "MFA Thesis Exhibition                                             Art   \n",
       "Benjamin's Fate - Classic Action Adventure RPG            Video Games   \n",
       "The Line                                                       Shorts   \n",
       "The Other Side                                           Film & Video   \n",
       "Recording Project                                               Music   \n",
       "Custom End Grain Cutting Boards                           Woodworking   \n",
       "The Last Man                                               Indie Rock   \n",
       "In His Image                                                  Couture   \n",
       "Stötta Vandringsbloggen Community                          Publishing   \n",
       "Bad Parking Business Cards                             Graphic Design   \n",
       "Romeo & Juliet                                                  Plays   \n",
       "\"On The Road\"                                               Webseries   \n",
       "Ready Set Train! - The workoutgame                              Games   \n",
       "The Last Straw                                            Photography   \n",
       "Dead Inside                                                    Shorts   \n",
       "The Long Haul                                               Webseries   \n",
       "Lie Detector App                                                 Apps   \n",
       "Ambrosia                                               Tabletop Games   \n",
       "Aporia                                                          Music   \n",
       "Innocent Sin                                               Indie Rock   \n",
       "Grassroots                                                 Publishing   \n",
       "The InAction                                         Camera Equipment   \n",
       "The Last Hurrah                                                  Rock   \n",
       "Guilt                                                          Shorts   \n",
       "\n",
       "                                                   main_category currency  \\\n",
       "name                                                                        \n",
       "Cancelled (Canceled)                                      Design      USD   \n",
       "New EP/Music Development                                   Music      USD   \n",
       "The Basement                                        Film & Video      USD   \n",
       "The Gift                                            Film & Video      USD   \n",
       "Redemption                                          Film & Video      USD   \n",
       "Quick Quests: TCG                                          Games      USD   \n",
       "Cosplay                                                   Crafts      GBP   \n",
       "In Transit                                          Film & Video      USD   \n",
       "New EP/Music Development                                   Music      USD   \n",
       "The Pitch                                           Film & Video      USD   \n",
       "Rise and Shine                                      Film & Video      USD   \n",
       "Nocturne                                            Film & Video      DKK   \n",
       "Patriot Playing Cards                                      Games      USD   \n",
       "James vs The New World Order #3                           Comics      USD   \n",
       "New EP/Music Development                                   Music      USD   \n",
       "A Midsummer Night's Dream                           Film & Video      USD   \n",
       "Campaign Trail                                      Film & Video      USD   \n",
       "After                                                      Games      GBP   \n",
       "New EP/Music Development                                   Music      USD   \n",
       "New EP / Music Development                                 Music      USD   \n",
       "A Big Dream of a Little Man - Alex Oddman's Deb...         Music      USD   \n",
       "College Life                                        Film & Video      USD   \n",
       "Free                                                       Music      USD   \n",
       "Fearless                                                 Theater      USD   \n",
       "Nostalgia                                           Film & Video      USD   \n",
       "Take Me Home                                        Film & Video      USD   \n",
       "Stray                                                      Games      USD   \n",
       "Locked Memories                                      Photography      USD   \n",
       "Paradox                                                    Games      USD   \n",
       "Remnant                                             Film & Video      USD   \n",
       "...                                                          ...      ...   \n",
       "High Frontier                                         Technology      USD   \n",
       "World War 3 (Canceled)                                     Games      USD   \n",
       "The Bottom Line                                          Fashion      USD   \n",
       "The Professor                                       Film & Video      USD   \n",
       "Basketball Bags for Athletes: The Game Bag                Design      USD   \n",
       "Battle For Enkeon: A new turn-based sci-fi shoo...         Games      GBP   \n",
       "MFA Thesis Exhibition                                        Art      USD   \n",
       "Benjamin's Fate - Classic Action Adventure RPG             Games      USD   \n",
       "The Line                                            Film & Video      USD   \n",
       "The Other Side                                      Film & Video      USD   \n",
       "Recording Project                                          Music      USD   \n",
       "Custom End Grain Cutting Boards                           Crafts      USD   \n",
       "The Last Man                                               Music      USD   \n",
       "In His Image                                             Fashion      USD   \n",
       "Stötta Vandringsbloggen Community                     Publishing      SEK   \n",
       "Bad Parking Business Cards                                Design      USD   \n",
       "Romeo & Juliet                                           Theater      USD   \n",
       "\"On The Road\"                                       Film & Video      USD   \n",
       "Ready Set Train! - The workoutgame                         Games      EUR   \n",
       "The Last Straw                                       Photography      GBP   \n",
       "Dead Inside                                         Film & Video      USD   \n",
       "The Long Haul                                       Film & Video      USD   \n",
       "Lie Detector App                                      Technology      USD   \n",
       "Ambrosia                                                   Games      EUR   \n",
       "Aporia                                                     Music      USD   \n",
       "Innocent Sin                                               Music      USD   \n",
       "Grassroots                                            Publishing      EUR   \n",
       "The InAction                                          Technology      USD   \n",
       "The Last Hurrah                                            Music      USD   \n",
       "Guilt                                               Film & Video      USD   \n",
       "\n",
       "                                                     deadline      goal  \\\n",
       "name                                                                      \n",
       "Cancelled (Canceled)                               2015-06-05 100000.00   \n",
       "New EP/Music Development                           2016-01-07   3800.00   \n",
       "The Basement                                       2015-05-07  12000.00   \n",
       "The Gift                                           2013-05-08   3000.00   \n",
       "Redemption                                         2012-08-25  11000.00   \n",
       "Quick Quests: TCG                                  2016-09-01   1000.00   \n",
       "Cosplay                                            2014-10-02    170.00   \n",
       "In Transit                                         2013-05-30   1500.00   \n",
       "New EP/Music Development                           2015-04-23   3500.00   \n",
       "The Pitch                                          2011-11-03  11000.00   \n",
       "Rise and Shine                                     2014-10-07   6000.00   \n",
       "Nocturne                                           2017-11-19  10000.00   \n",
       "Patriot Playing Cards                              2015-03-21   8000.00   \n",
       "James vs The New World Order #3                    2017-05-30   3000.00   \n",
       "New EP/Music Development                           2016-01-28   3000.00   \n",
       "A Midsummer Night's Dream                          2015-08-20  50000.00   \n",
       "Campaign Trail                                     2016-01-06  15000.00   \n",
       "After                                              2016-01-06  45000.00   \n",
       "New EP/Music Development                           2015-12-14   3000.00   \n",
       "New EP / Music Development                         2015-04-23   3000.00   \n",
       "A Big Dream of a Little Man - Alex Oddman's Deb... 2017-01-18   5200.00   \n",
       "College Life                                       2012-12-21   3500.00   \n",
       "Free                                               2015-07-12  10500.00   \n",
       "Fearless                                           2014-07-20   4000.00   \n",
       "Nostalgia                                          2015-03-09  65000.00   \n",
       "Take Me Home                                       2016-12-02   8500.00   \n",
       "Stray                                              2016-03-31  10000.00   \n",
       "Locked Memories                                    2016-04-11   2500.00   \n",
       "Paradox                                            2017-08-21   5000.00   \n",
       "Remnant                                            2012-01-07   2200.00   \n",
       "...                                                       ...       ...   \n",
       "High Frontier                                      2014-11-26  10000.00   \n",
       "World War 3 (Canceled)                             2014-08-15   1000.00   \n",
       "The Bottom Line                                    2016-04-01   8000.00   \n",
       "The Professor                                      2012-12-08   1000.00   \n",
       "Basketball Bags for Athletes: The Game Bag         2016-10-15  15000.00   \n",
       "Battle For Enkeon: A new turn-based sci-fi shoo... 2017-08-25  15000.00   \n",
       "MFA Thesis Exhibition                              2012-11-06   1000.00   \n",
       "Benjamin's Fate - Classic Action Adventure RPG     2017-05-01   5200.00   \n",
       "The Line                                           2014-03-18   1500.00   \n",
       "The Other Side                                     2012-09-13  35000.00   \n",
       "Recording Project                                  2012-02-23   1200.00   \n",
       "Custom End Grain Cutting Boards                    2016-03-05   1500.00   \n",
       "The Last Man                                       2014-11-23   5000.00   \n",
       "In His Image                                       2015-07-23 150000.00   \n",
       "Stötta Vandringsbloggen Community                  2016-12-31  30000.00   \n",
       "Bad Parking Business Cards                         2013-09-24    500.00   \n",
       "Romeo & Juliet                                     2017-09-18   3000.00   \n",
       "\"On The Road\"                                      2015-01-22  80000.00   \n",
       "Ready Set Train! - The workoutgame                 2017-06-30   5000.00   \n",
       "The Last Straw                                     2016-12-07    650.00   \n",
       "Dead Inside                                        2011-04-02   5000.00   \n",
       "The Long Haul                                      2015-03-07  10000.00   \n",
       "Lie Detector App                                   2015-03-12  10000.00   \n",
       "Ambrosia                                           2016-11-08  20000.00   \n",
       "Aporia                                             2017-09-17   1500.00   \n",
       "Innocent Sin                                       2015-01-25    300.00   \n",
       "Grassroots                                         2017-09-14  10000.00   \n",
       "The InAction                                       2016-07-29  80000.00   \n",
       "The Last Hurrah                                    2012-06-03   5500.00   \n",
       "Guilt                                              2014-05-16  65000.00   \n",
       "\n",
       "                                                              launched  \\\n",
       "name                                                                     \n",
       "Cancelled (Canceled)                               2015-05-06 12:29:08   \n",
       "New EP/Music Development                           2015-11-24 15:29:35   \n",
       "The Basement                                       2015-04-07 18:24:19   \n",
       "The Gift                                           2013-04-17 01:55:27   \n",
       "Redemption                                         2012-06-26 19:13:21   \n",
       "Quick Quests: TCG                                  2016-08-20 03:31:20   \n",
       "Cosplay                                            2014-08-12 16:58:11   \n",
       "In Transit                                         2013-04-30 01:20:54   \n",
       "New EP/Music Development                           2015-03-18 16:20:34   \n",
       "The Pitch                                          2011-09-04 06:28:11   \n",
       "Rise and Shine                                     2014-09-05 06:07:04   \n",
       "Nocturne                                           2017-09-20 21:46:55   \n",
       "Patriot Playing Cards                              2015-02-19 16:44:45   \n",
       "James vs The New World Order #3                    2017-03-31 22:56:11   \n",
       "New EP/Music Development                           2015-12-21 20:39:56   \n",
       "A Midsummer Night's Dream                          2015-06-21 08:36:59   \n",
       "Campaign Trail                                     2015-12-07 22:06:57   \n",
       "After                                              2015-12-07 12:46:57   \n",
       "New EP/Music Development                           2015-11-09 18:46:47   \n",
       "New EP / Music Development                         2015-03-18 20:44:32   \n",
       "A Big Dream of a Little Man - Alex Oddman's Deb... 2016-12-19 16:05:07   \n",
       "College Life                                       2012-10-22 22:41:20   \n",
       "Free                                               2015-06-12 07:48:21   \n",
       "Fearless                                           2014-06-23 04:36:34   \n",
       "Nostalgia                                          2015-01-08 16:19:37   \n",
       "Take Me Home                                       2016-11-02 19:17:00   \n",
       "Stray                                              2016-02-29 16:27:44   \n",
       "Locked Memories                                    2016-03-12 23:12:52   \n",
       "Paradox                                            2017-07-22 03:02:38   \n",
       "Remnant                                            2011-12-23 15:56:03   \n",
       "...                                                                ...   \n",
       "High Frontier                                      2014-10-27 15:24:20   \n",
       "World War 3 (Canceled)                             2014-06-16 08:44:03   \n",
       "The Bottom Line                                    2016-03-02 04:49:06   \n",
       "The Professor                                      2012-11-08 22:18:02   \n",
       "Basketball Bags for Athletes: The Game Bag         2016-08-16 20:43:20   \n",
       "Battle For Enkeon: A new turn-based sci-fi shoo... 2017-07-26 10:47:09   \n",
       "MFA Thesis Exhibition                              2012-10-07 23:10:22   \n",
       "Benjamin's Fate - Classic Action Adventure RPG     2017-04-01 10:40:20   \n",
       "The Line                                           2014-03-05 00:28:22   \n",
       "The Other Side                                     2012-08-14 06:00:51   \n",
       "Recording Project                                  2012-01-24 06:55:38   \n",
       "Custom End Grain Cutting Boards                    2016-02-04 06:41:05   \n",
       "The Last Man                                       2014-10-24 01:56:23   \n",
       "In His Image                                       2015-06-23 00:27:41   \n",
       "Stötta Vandringsbloggen Community                  2016-11-20 00:14:36   \n",
       "Bad Parking Business Cards                         2013-09-09 18:34:07   \n",
       "Romeo & Juliet                                     2017-08-31 16:02:20   \n",
       "\"On The Road\"                                      2014-12-23 17:31:06   \n",
       "Ready Set Train! - The workoutgame                 2017-05-31 23:56:49   \n",
       "The Last Straw                                     2016-11-06 22:08:44   \n",
       "Dead Inside                                        2011-01-25 18:57:37   \n",
       "The Long Haul                                      2015-02-05 21:26:59   \n",
       "Lie Detector App                                   2015-02-10 12:05:18   \n",
       "Ambrosia                                           2016-10-11 15:56:39   \n",
       "Aporia                                             2017-08-26 17:59:06   \n",
       "Innocent Sin                                       2014-12-26 18:04:28   \n",
       "Grassroots                                         2017-08-15 18:36:18   \n",
       "The InAction                                       2016-06-28 04:00:08   \n",
       "The Last Hurrah                                    2012-05-04 15:20:41   \n",
       "Guilt                                              2014-04-16 17:45:46   \n",
       "\n",
       "                                                    pledged       state  \\\n",
       "name                                                                      \n",
       "Cancelled (Canceled)                                3105.00    canceled   \n",
       "New EP/Music Development                             257.00   undefined   \n",
       "The Basement                                       12311.00  successful   \n",
       "The Gift                                            3370.00  successful   \n",
       "Redemption                                         11440.00  successful   \n",
       "Quick Quests: TCG                                    436.00      failed   \n",
       "Cosplay                                               20.00      failed   \n",
       "In Transit                                          1625.00  successful   \n",
       "New EP/Music Development                               1.00      failed   \n",
       "The Pitch                                           3310.00      failed   \n",
       "Rise and Shine                                       613.00      failed   \n",
       "Nocturne                                            1205.00      failed   \n",
       "Patriot Playing Cards                              18465.00  successful   \n",
       "James vs The New World Order #3                      214.00    canceled   \n",
       "New EP/Music Development                              40.00   undefined   \n",
       "A Midsummer Night's Dream                            425.00      failed   \n",
       "Campaign Trail                                         0.00      failed   \n",
       "After                                                 26.00      failed   \n",
       "New EP/Music Development                             431.00   undefined   \n",
       "New EP / Music Development                           517.00      failed   \n",
       "A Big Dream of a Little Man - Alex Oddman's Deb...    10.00    canceled   \n",
       "College Life                                        3500.00  successful   \n",
       "Free                                                  75.00      failed   \n",
       "Fearless                                            4205.00  successful   \n",
       "Nostalgia                                              0.00      failed   \n",
       "Take Me Home                                        8670.33  successful   \n",
       "Stray                                                542.00      failed   \n",
       "Locked Memories                                      194.00      failed   \n",
       "Paradox                                              111.00    canceled   \n",
       "Remnant                                             4092.00  successful   \n",
       "...                                                     ...         ...   \n",
       "High Frontier                                      13630.00  successful   \n",
       "World War 3 (Canceled)                                 0.00    canceled   \n",
       "The Bottom Line                                       15.00      failed   \n",
       "The Professor                                       1530.00  successful   \n",
       "Basketball Bags for Athletes: The Game Bag         15744.00  successful   \n",
       "Battle For Enkeon: A new turn-based sci-fi shoo...     0.00    canceled   \n",
       "MFA Thesis Exhibition                               1080.00  successful   \n",
       "Benjamin's Fate - Classic Action Adventure RPG       152.00      failed   \n",
       "The Line                                             150.00      failed   \n",
       "The Other Side                                         0.00      failed   \n",
       "Recording Project                                   2002.00  successful   \n",
       "Custom End Grain Cutting Boards                      285.00      failed   \n",
       "The Last Man                                        5476.23  successful   \n",
       "In His Image                                           0.00      failed   \n",
       "Stötta Vandringsbloggen Community                    100.00    canceled   \n",
       "Bad Parking Business Cards                          1184.00  successful   \n",
       "Romeo & Juliet                                      3061.00  successful   \n",
       "\"On The Road\"                                          0.00      failed   \n",
       "Ready Set Train! - The workoutgame                    65.00      failed   \n",
       "The Last Straw                                       650.00  successful   \n",
       "Dead Inside                                            0.00      failed   \n",
       "The Long Haul                                        101.00      failed   \n",
       "Lie Detector App                                       0.00      failed   \n",
       "Ambrosia                                            4074.00      failed   \n",
       "Aporia                                              1715.00  successful   \n",
       "Innocent Sin                                         600.00  successful   \n",
       "Grassroots                                            21.00      failed   \n",
       "The InAction                                         670.00    canceled   \n",
       "The Last Hurrah                                     7665.00  successful   \n",
       "Guilt                                                791.00      failed   \n",
       "\n",
       "                                                    backers country  \\\n",
       "name                                                                  \n",
       "Cancelled (Canceled)                                     17      US   \n",
       "New EP/Music Development                                  0    N,0\"   \n",
       "The Basement                                            106      US   \n",
       "The Gift                                                 37      US   \n",
       "Redemption                                               67      US   \n",
       "Quick Quests: TCG                                        16      US   \n",
       "Cosplay                                                   2      GB   \n",
       "In Transit                                               40      US   \n",
       "New EP/Music Development                                  1      US   \n",
       "The Pitch                                                18      US   \n",
       "Rise and Shine                                           20      US   \n",
       "Nocturne                                                  4      DK   \n",
       "Patriot Playing Cards                                   305      US   \n",
       "James vs The New World Order #3                           7      US   \n",
       "New EP/Music Development                                  0    N,0\"   \n",
       "A Midsummer Night's Dream                                 9      US   \n",
       "Campaign Trail                                            0      US   \n",
       "After                                                     3      GB   \n",
       "New EP/Music Development                                  0    N,0\"   \n",
       "New EP / Music Development                               13      US   \n",
       "A Big Dream of a Little Man - Alex Oddman's Deb...        1      US   \n",
       "College Life                                             22      US   \n",
       "Free                                                      2      US   \n",
       "Fearless                                                 49      US   \n",
       "Nostalgia                                                 0      US   \n",
       "Take Me Home                                             71      US   \n",
       "Stray                                                    26      US   \n",
       "Locked Memories                                           4      US   \n",
       "Paradox                                                   8      US   \n",
       "Remnant                                                 104      US   \n",
       "...                                                     ...     ...   \n",
       "High Frontier                                           319      US   \n",
       "World War 3 (Canceled)                                    0      US   \n",
       "The Bottom Line                                           3      US   \n",
       "The Professor                                            43      US   \n",
       "Basketball Bags for Athletes: The Game Bag               82      US   \n",
       "Battle For Enkeon: A new turn-based sci-fi shoo...        0      GB   \n",
       "MFA Thesis Exhibition                                    25      US   \n",
       "Benjamin's Fate - Classic Action Adventure RPG            8      US   \n",
       "The Line                                                  6      US   \n",
       "The Other Side                                            0      US   \n",
       "Recording Project                                        48      US   \n",
       "Custom End Grain Cutting Boards                           1      US   \n",
       "The Last Man                                             97      US   \n",
       "In His Image                                              0      US   \n",
       "Stötta Vandringsbloggen Community                         2      SE   \n",
       "Bad Parking Business Cards                               71      US   \n",
       "Romeo & Juliet                                           60      US   \n",
       "\"On The Road\"                                             0      US   \n",
       "Ready Set Train! - The workoutgame                        5      NL   \n",
       "The Last Straw                                           15      GB   \n",
       "Dead Inside                                               0      US   \n",
       "The Long Haul                                             2      US   \n",
       "Lie Detector App                                          0      US   \n",
       "Ambrosia                                                 85      BE   \n",
       "Aporia                                                   53      US   \n",
       "Innocent Sin                                             15      US   \n",
       "Grassroots                                                3      IE   \n",
       "The InAction                                              5      US   \n",
       "The Last Hurrah                                          69      US   \n",
       "Guilt                                                     7      US   \n",
       "\n",
       "                                                    usd pledged  \\\n",
       "name                                                              \n",
       "Cancelled (Canceled)                                    3105.00   \n",
       "New EP/Music Development                                    nan   \n",
       "The Basement                                           12311.00   \n",
       "The Gift                                                3370.00   \n",
       "Redemption                                             11440.00   \n",
       "Quick Quests: TCG                                        304.00   \n",
       "Cosplay                                                   33.56   \n",
       "In Transit                                              1625.00   \n",
       "New EP/Music Development                                   1.00   \n",
       "The Pitch                                               3310.00   \n",
       "Rise and Shine                                           613.00   \n",
       "Nocturne                                                   0.00   \n",
       "Patriot Playing Cards                                  18465.00   \n",
       "James vs The New World Order #3                           28.00   \n",
       "New EP/Music Development                                    nan   \n",
       "A Midsummer Night's Dream                                425.00   \n",
       "Campaign Trail                                             0.00   \n",
       "After                                                     39.29   \n",
       "New EP/Music Development                                    nan   \n",
       "New EP / Music Development                               517.00   \n",
       "A Big Dream of a Little Man - Alex Oddman's Deb...        10.00   \n",
       "College Life                                            3500.00   \n",
       "Free                                                      75.00   \n",
       "Fearless                                                4205.00   \n",
       "Nostalgia                                                  0.00   \n",
       "Take Me Home                                            1248.59   \n",
       "Stray                                                    542.00   \n",
       "Locked Memories                                          194.00   \n",
       "Paradox                                                  111.00   \n",
       "Remnant                                                 4092.00   \n",
       "...                                                         ...   \n",
       "High Frontier                                          13630.00   \n",
       "World War 3 (Canceled)                                     0.00   \n",
       "The Bottom Line                                           15.00   \n",
       "The Professor                                           1530.00   \n",
       "Basketball Bags for Athletes: The Game Bag              1550.00   \n",
       "Battle For Enkeon: A new turn-based sci-fi shoo...         0.00   \n",
       "MFA Thesis Exhibition                                   1080.00   \n",
       "Benjamin's Fate - Classic Action Adventure RPG            30.00   \n",
       "The Line                                                 150.00   \n",
       "The Other Side                                             0.00   \n",
       "Recording Project                                       2002.00   \n",
       "Custom End Grain Cutting Boards                          285.00   \n",
       "The Last Man                                            5476.23   \n",
       "In His Image                                               0.00   \n",
       "Stötta Vandringsbloggen Community                         10.81   \n",
       "Bad Parking Business Cards                              1184.00   \n",
       "Romeo & Juliet                                           200.00   \n",
       "\"On The Road\"                                              0.00   \n",
       "Ready Set Train! - The workoutgame                        53.40   \n",
       "The Last Straw                                             0.00   \n",
       "Dead Inside                                                0.00   \n",
       "The Long Haul                                            101.00   \n",
       "Lie Detector App                                           0.00   \n",
       "Ambrosia                                                1430.41   \n",
       "Aporia                                                   865.00   \n",
       "Innocent Sin                                             600.00   \n",
       "Grassroots                                                 0.00   \n",
       "The InAction                                             410.00   \n",
       "The Last Hurrah                                         7665.00   \n",
       "Guilt                                                    791.00   \n",
       "\n",
       "                                                    usd_pledged_real  \\\n",
       "name                                                                   \n",
       "Cancelled (Canceled)                                         3105.00   \n",
       "New EP/Music Development                                      257.00   \n",
       "The Basement                                                12311.00   \n",
       "The Gift                                                     3370.00   \n",
       "Redemption                                                  11440.00   \n",
       "Quick Quests: TCG                                             436.00   \n",
       "Cosplay                                                        32.13   \n",
       "In Transit                                                   1625.00   \n",
       "New EP/Music Development                                        1.00   \n",
       "The Pitch                                                    3310.00   \n",
       "Rise and Shine                                                613.00   \n",
       "Nocturne                                                      192.31   \n",
       "Patriot Playing Cards                                       18465.00   \n",
       "James vs The New World Order #3                               214.00   \n",
       "New EP/Music Development                                       40.00   \n",
       "A Midsummer Night's Dream                                     425.00   \n",
       "Campaign Trail                                                  0.00   \n",
       "After                                                          37.89   \n",
       "New EP/Music Development                                      431.00   \n",
       "New EP / Music Development                                    517.00   \n",
       "A Big Dream of a Little Man - Alex Oddman's Deb...             10.00   \n",
       "College Life                                                 3500.00   \n",
       "Free                                                           75.00   \n",
       "Fearless                                                     4205.00   \n",
       "Nostalgia                                                       0.00   \n",
       "Take Me Home                                                 8670.33   \n",
       "Stray                                                         542.00   \n",
       "Locked Memories                                               194.00   \n",
       "Paradox                                                       111.00   \n",
       "Remnant                                                      4092.00   \n",
       "...                                                              ...   \n",
       "High Frontier                                               13630.00   \n",
       "World War 3 (Canceled)                                          0.00   \n",
       "The Bottom Line                                                15.00   \n",
       "The Professor                                                1530.00   \n",
       "Basketball Bags for Athletes: The Game Bag                  15744.00   \n",
       "Battle For Enkeon: A new turn-based sci-fi shoo...              0.00   \n",
       "MFA Thesis Exhibition                                        1080.00   \n",
       "Benjamin's Fate - Classic Action Adventure RPG                152.00   \n",
       "The Line                                                      150.00   \n",
       "The Other Side                                                  0.00   \n",
       "Recording Project                                            2002.00   \n",
       "Custom End Grain Cutting Boards                               285.00   \n",
       "The Last Man                                                 5476.23   \n",
       "In His Image                                                    0.00   \n",
       "Stötta Vandringsbloggen Community                              11.09   \n",
       "Bad Parking Business Cards                                   1184.00   \n",
       "Romeo & Juliet                                               3061.00   \n",
       "\"On The Road\"                                                   0.00   \n",
       "Ready Set Train! - The workoutgame                             74.18   \n",
       "The Last Straw                                                817.70   \n",
       "Dead Inside                                                     0.00   \n",
       "The Long Haul                                                 101.00   \n",
       "Lie Detector App                                                0.00   \n",
       "Ambrosia                                                     4442.31   \n",
       "Aporia                                                       1715.00   \n",
       "Innocent Sin                                                  600.00   \n",
       "Grassroots                                                     25.12   \n",
       "The InAction                                                  670.00   \n",
       "The Last Hurrah                                              7665.00   \n",
       "Guilt                                                         791.00   \n",
       "\n",
       "                                                    usd_goal_real  \n",
       "name                                                               \n",
       "Cancelled (Canceled)                                    100000.00  \n",
       "New EP/Music Development                                  3800.00  \n",
       "The Basement                                             12000.00  \n",
       "The Gift                                                  3000.00  \n",
       "Redemption                                               11000.00  \n",
       "Quick Quests: TCG                                         1000.00  \n",
       "Cosplay                                                    273.13  \n",
       "In Transit                                                1500.00  \n",
       "New EP/Music Development                                  3500.00  \n",
       "The Pitch                                                11000.00  \n",
       "Rise and Shine                                            6000.00  \n",
       "Nocturne                                                  1595.91  \n",
       "Patriot Playing Cards                                     8000.00  \n",
       "James vs The New World Order #3                           3000.00  \n",
       "New EP/Music Development                                  3000.00  \n",
       "A Midsummer Night's Dream                                50000.00  \n",
       "Campaign Trail                                           15000.00  \n",
       "After                                                    65586.19  \n",
       "New EP/Music Development                                  3000.00  \n",
       "New EP / Music Development                                3000.00  \n",
       "A Big Dream of a Little Man - Alex Oddman's Deb...        5200.00  \n",
       "College Life                                              3500.00  \n",
       "Free                                                     10500.00  \n",
       "Fearless                                                  4000.00  \n",
       "Nostalgia                                                65000.00  \n",
       "Take Me Home                                              8500.00  \n",
       "Stray                                                    10000.00  \n",
       "Locked Memories                                           2500.00  \n",
       "Paradox                                                   5000.00  \n",
       "Remnant                                                   2200.00  \n",
       "...                                                           ...  \n",
       "High Frontier                                            10000.00  \n",
       "World War 3 (Canceled)                                    1000.00  \n",
       "The Bottom Line                                           8000.00  \n",
       "The Professor                                             1000.00  \n",
       "Basketball Bags for Athletes: The Game Bag               15000.00  \n",
       "Battle For Enkeon: A new turn-based sci-fi shoo...       19234.71  \n",
       "MFA Thesis Exhibition                                     1000.00  \n",
       "Benjamin's Fate - Classic Action Adventure RPG            5200.00  \n",
       "The Line                                                  1500.00  \n",
       "The Other Side                                           35000.00  \n",
       "Recording Project                                         1200.00  \n",
       "Custom End Grain Cutting Boards                           1500.00  \n",
       "The Last Man                                              5000.00  \n",
       "In His Image                                            150000.00  \n",
       "Stötta Vandringsbloggen Community                         3325.87  \n",
       "Bad Parking Business Cards                                 500.00  \n",
       "Romeo & Juliet                                            3000.00  \n",
       "\"On The Road\"                                            80000.00  \n",
       "Ready Set Train! - The workoutgame                        5706.00  \n",
       "The Last Straw                                             817.70  \n",
       "Dead Inside                                               5000.00  \n",
       "The Long Haul                                            10000.00  \n",
       "Lie Detector App                                         10000.00  \n",
       "Ambrosia                                                 21808.11  \n",
       "Aporia                                                    1500.00  \n",
       "Innocent Sin                                               300.00  \n",
       "Grassroots                                               11963.01  \n",
       "The InAction                                             80000.00  \n",
       "The Last Hurrah                                           5500.00  \n",
       "Guilt                                                    65000.00  \n",
       "\n",
       "[2896 rows x 14 columns]"
      ]
     },
     "execution_count": 35,
     "metadata": {},
     "output_type": "execute_result"
    }
   ],
   "source": [
    "# Buscamos nuevamente si hay datos duplicados\n",
    "\n",
    "kickstarter_2018_name[kickstarter_2018_name.index.duplicated()]"
   ]
  },
  {
   "cell_type": "markdown",
   "metadata": {},
   "source": [
    "* Tenemos 2896 registros con nombres duplicados"
   ]
  },
  {
   "cell_type": "markdown",
   "metadata": {
    "colab_type": "text",
    "id": "NeVjrYP2YSu2"
   },
   "source": [
    "# 1.3. Despersonalizar datos y guardarlos en un nuevo archivo"
   ]
  },
  {
   "cell_type": "markdown",
   "metadata": {
    "colab_type": "text",
    "id": "oKIo48BBYSu3"
   },
   "source": [
    "Hay muuuchas técnicas para despersonalizar datos.\n",
    "\n",
    "Para ilustrar mostramos las ofrecidas por Google https://cloud.google.com/dlp/docs/transformations-reference:\n",
    "\n",
    "* **Reemplazo**: Reemplaza cada valor de entrada con un valor determinado.\n",
    "* **Ocultamiento**: Quita un valor y lo oculta.\n",
    "* **Enmascaramiento con caracteres**: Enmascara una string por completo o parcialmente mediante el reemplazo de un número determinado de caracteres con un carácter fijo especificado..\n",
    "* **Seudonimización mediante el reemplazo de un valor de entrada con un hash criptográfico**: Reemplaza valores de entrada con una string hexadecimal de 32 bytes mediante una clave de encriptación de datos.\n",
    "* **Cambio de fechas**: Cambia las fechas por un número de días al azar, con la opción de ser coherente en el mismo contexto..\n",
    "* **Seudonimización mediante el reemplazo con token de preservación de formato criptográfico**: Reemplaza un valor de entrada con un token, o valor sustituto, de la misma longitud mediante la encriptación de preservación de formato (FPE) con el modo de operación FFX. Esto permite que se use el resultado en sistemas con validación de formato o que necesitan aparecer como reales a pesar de que la información no se revela.\n",
    "* **Valores de depósito con base en rangos de tamaño fijos**: Enmascara los valores de entrada y los reemplaza por depósitos, o rangos dentro de los cuales se encuentra el valor de entrada.\n",
    "* **Valores de depósito con base en rangos de tamaño personalizados**: Valores de entrada de depósito con base en rangos configurables por el usuario y valores de reemplazo.\n",
    "* **Extracción de datos de tiempo**: EExtrae o preserva una porción de los valores Date, Timestamp y TimeOfDay."
   ]
  },
  {
   "cell_type": "code",
   "execution_count": 27,
   "metadata": {
    "colab": {},
    "colab_type": "code",
    "id": "VQ5HQI73YSu3"
   },
   "outputs": [],
   "source": [
    "from hashlib import md5"
   ]
  },
  {
   "cell_type": "code",
   "execution_count": 28,
   "metadata": {
    "colab": {
     "base_uri": "https://localhost:8080/",
     "height": 317
    },
    "colab_type": "code",
    "id": "6ZR9TgenYSu5",
    "outputId": "eba89bb8-3667-4426-eadd-b1d1911612ab"
   },
   "outputs": [
    {
     "ename": "TypeError",
     "evalue": "Unicode-objects must be encoded before hashing",
     "output_type": "error",
     "traceback": [
      "\u001b[1;31m---------------------------------------------------------------------------\u001b[0m",
      "\u001b[1;31mTypeError\u001b[0m                                 Traceback (most recent call last)",
      "\u001b[1;32m<ipython-input-28-de7c23e4609e>\u001b[0m in \u001b[0;36m<module>\u001b[1;34m\u001b[0m\n\u001b[1;32m----> 1\u001b[1;33m \u001b[0mkickstarter_2018\u001b[0m\u001b[1;33m[\u001b[0m\u001b[1;34m'name'\u001b[0m\u001b[1;33m]\u001b[0m\u001b[1;33m.\u001b[0m\u001b[0mapply\u001b[0m\u001b[1;33m(\u001b[0m\u001b[0mmd5\u001b[0m\u001b[1;33m)\u001b[0m\u001b[1;33m\u001b[0m\u001b[1;33m\u001b[0m\u001b[0m\n\u001b[0m",
      "\u001b[1;32m~\\miniconda3\\envs\\diplodatos-ayvd\\lib\\site-packages\\pandas\\core\\series.py\u001b[0m in \u001b[0;36mapply\u001b[1;34m(self, func, convert_dtype, args, **kwds)\u001b[0m\n\u001b[0;32m   2353\u001b[0m             \u001b[1;32melse\u001b[0m\u001b[1;33m:\u001b[0m\u001b[1;33m\u001b[0m\u001b[1;33m\u001b[0m\u001b[0m\n\u001b[0;32m   2354\u001b[0m                 \u001b[0mvalues\u001b[0m \u001b[1;33m=\u001b[0m \u001b[0mself\u001b[0m\u001b[1;33m.\u001b[0m\u001b[0masobject\u001b[0m\u001b[1;33m\u001b[0m\u001b[1;33m\u001b[0m\u001b[0m\n\u001b[1;32m-> 2355\u001b[1;33m                 \u001b[0mmapped\u001b[0m \u001b[1;33m=\u001b[0m \u001b[0mlib\u001b[0m\u001b[1;33m.\u001b[0m\u001b[0mmap_infer\u001b[0m\u001b[1;33m(\u001b[0m\u001b[0mvalues\u001b[0m\u001b[1;33m,\u001b[0m \u001b[0mf\u001b[0m\u001b[1;33m,\u001b[0m \u001b[0mconvert\u001b[0m\u001b[1;33m=\u001b[0m\u001b[0mconvert_dtype\u001b[0m\u001b[1;33m)\u001b[0m\u001b[1;33m\u001b[0m\u001b[1;33m\u001b[0m\u001b[0m\n\u001b[0m\u001b[0;32m   2356\u001b[0m \u001b[1;33m\u001b[0m\u001b[0m\n\u001b[0;32m   2357\u001b[0m         \u001b[1;32mif\u001b[0m \u001b[0mlen\u001b[0m\u001b[1;33m(\u001b[0m\u001b[0mmapped\u001b[0m\u001b[1;33m)\u001b[0m \u001b[1;32mand\u001b[0m \u001b[0misinstance\u001b[0m\u001b[1;33m(\u001b[0m\u001b[0mmapped\u001b[0m\u001b[1;33m[\u001b[0m\u001b[1;36m0\u001b[0m\u001b[1;33m]\u001b[0m\u001b[1;33m,\u001b[0m \u001b[0mSeries\u001b[0m\u001b[1;33m)\u001b[0m\u001b[1;33m:\u001b[0m\u001b[1;33m\u001b[0m\u001b[1;33m\u001b[0m\u001b[0m\n",
      "\u001b[1;32mpandas/_libs/src\\inference.pyx\u001b[0m in \u001b[0;36mpandas._libs.lib.map_infer\u001b[1;34m()\u001b[0m\n",
      "\u001b[1;31mTypeError\u001b[0m: Unicode-objects must be encoded before hashing"
     ]
    }
   ],
   "source": [
    "kickstarter_2018['name'].apply(md5)"
   ]
  },
  {
   "cell_type": "code",
   "execution_count": null,
   "metadata": {
    "colab": {
     "base_uri": "https://localhost:8080/",
     "height": 358
    },
    "colab_type": "code",
    "id": "LL_nCq68YSu8",
    "outputId": "07866380-fd2f-4864-98d8-87d00c9d8624"
   },
   "outputs": [],
   "source": [
    "def hashit(val):\n",
    "    return md5(val.encode('utf-8'))\n",
    "\n",
    "kickstarter_2018['name'].apply(hashit)"
   ]
  },
  {
   "cell_type": "code",
   "execution_count": null,
   "metadata": {
    "colab": {
     "base_uri": "https://localhost:8080/",
     "height": 392
    },
    "colab_type": "code",
    "id": "Hsxx-0ovYSvA",
    "outputId": "5a10d25b-90ea-4904-f3e8-2f06a810560a"
   },
   "outputs": [],
   "source": [
    "def hashit(val):\n",
    "    try:\n",
    "        return md5(val.encode('utf-8'))\n",
    "    except Exception as e:\n",
    "        print(val, type(val))\n",
    "        raise(e)\n",
    "\n",
    "kickstarter_2018['name'].apply(hashit)"
   ]
  },
  {
   "cell_type": "code",
   "execution_count": null,
   "metadata": {
    "colab": {
     "base_uri": "https://localhost:8080/",
     "height": 1088
    },
    "colab_type": "code",
    "id": "Dv1gB3GpYSvF",
    "outputId": "b2f03b77-2039-462b-de82-8cd847af2f9d"
   },
   "outputs": [],
   "source": [
    "def hashit(val):\n",
    "    if isinstance(val, float): \n",
    "        return str(val)\n",
    "    return md5(val.encode('utf-8')).hexdigest()\n",
    "\n",
    "\n",
    "kickstarter_2018['name'].apply(hashit)"
   ]
  },
  {
   "cell_type": "markdown",
   "metadata": {},
   "source": [
    "#### Ejercicio 2:\n",
    "\n",
    "Verificar que los proyectos que tienen nombres duplicados también tienen el hash de nombre duplicado"
   ]
  },
  {
   "cell_type": "markdown",
   "metadata": {
    "colab_type": "text",
    "id": "XGk94uFaYSvI"
   },
   "source": [
    "# 1.4. Nunca modificar los datos crudos u originales\n"
   ]
  },
  {
   "cell_type": "code",
   "execution_count": null,
   "metadata": {
    "colab": {},
    "colab_type": "code",
    "id": "ZicBTqBaYSvJ"
   },
   "outputs": [],
   "source": [
    "if not in_colab:\n",
    "  kickstarter_2018.to_csv(BASE_DIR + \"/output/ks-projects-201801-for-pandas.csv\")"
   ]
  },
  {
   "cell_type": "markdown",
   "metadata": {
    "colab_type": "text",
    "id": "XzR8-UpTIS8S"
   },
   "source": [
    "\n",
    "# 2. Pasos necesarios\n"
   ]
  },
  {
   "cell_type": "code",
   "execution_count": null,
   "metadata": {
    "colab": {},
    "colab_type": "code",
    "id": "jY_rB6dIIXTS"
   },
   "outputs": [],
   "source": [
    "#import pandas as pd\n",
    "if not in_colab:\n",
    "  kickstarter_2018 = pd.read_csv(BASE_DIR + \"/output/ks-projects-201801-for-pandas.csv\",\n",
    "                        index_col='ID',\n",
    "                        parse_dates=['deadline','launched'])"
   ]
  },
  {
   "cell_type": "code",
   "execution_count": null,
   "metadata": {
    "colab": {
     "base_uri": "https://localhost:8080/",
     "height": 452
    },
    "colab_type": "code",
    "id": "dXFOyYeiIXTV",
    "outputId": "cb3596c7-8b19-4671-ea94-85942ce603fa"
   },
   "outputs": [],
   "source": [
    "kickstarter_2018.describe(include='all')"
   ]
  },
  {
   "cell_type": "markdown",
   "metadata": {
    "colab_type": "text",
    "id": "OUA2hGvQIXTX"
   },
   "source": [
    "## 2.1. Etiquetas de variables/columnas: no usar caracteres especiales\n",
    "\n"
   ]
  },
  {
   "cell_type": "code",
   "execution_count": null,
   "metadata": {
    "colab": {},
    "colab_type": "code",
    "id": "BkdI2pVDIXTX"
   },
   "outputs": [],
   "source": [
    "# helpful character encoding module\n",
    "import chardet"
   ]
  },
  {
   "cell_type": "markdown",
   "metadata": {
    "colab_type": "text",
    "id": "lfyjvGsmIXTZ"
   },
   "source": [
    "¿Por qué? Por que aun hay limitaciones para trabajar con estos caracteres.\n",
    "\n",
    "¿Cúales son los caracteres \"normales\"? "
   ]
  },
  {
   "cell_type": "code",
   "execution_count": null,
   "metadata": {
    "colab": {
     "base_uri": "https://localhost:8080/",
     "height": 34
    },
    "colab_type": "code",
    "id": "fTc3NFPpIXTZ",
    "outputId": "af8cd308-845a-4a51-8ca4-d60b994aea86"
   },
   "outputs": [],
   "source": [
    "import string\n",
    "\n",
    "string.ascii_letters + string.digits"
   ]
  },
  {
   "cell_type": "markdown",
   "metadata": {
    "colab_type": "text",
    "id": "tWbcEuejIXTb"
   },
   "source": [
    "¿Qué es ASCII? Es una de las primeras codificaciones (o encoding) disponibles. Ver https://en.wikipedia.org/wiki/ASCII\n",
    "\n",
    "Un encoding es un mapa de caracteres a una representación en bits (por ejemplo 1000001). ASCII es uno de los primeros estandares para interoperatividad entre computadoras (antes cada fabricante de computadora usa su propia codificación), contempla sólo los caracteres ingleses y usa 7 bits, por ejemplo *1000001* codifica el caracter *A*\n",
    "\n",
    "Cómo sólo representaban los caracteres ingleses, empiezan a aparecer variantes para distintos idiomas, Microsoft hizo los propios para internacionalizar Windows, hubo otro estandar ISO 8859, hasta que llegó el éstandar Unicode que hizo múltiples encodings pero cada uno contempla múltiples idiomas e incluso es extensible a futuro. UTF-8 es de esos encodings el más utilizado. Ver https://en.wikipedia.org/wiki/Unicode\n",
    "\n",
    "En particular, Python 3 utiliza UTF-8 por defecto (lo que no sucedía en Python 2).\n",
    "\n",
    "Veamos un ejemplo práctico"
   ]
  },
  {
   "cell_type": "code",
   "execution_count": null,
   "metadata": {
    "colab": {
     "base_uri": "https://localhost:8080/",
     "height": 34
    },
    "colab_type": "code",
    "id": "uiUtEXG1IXTb",
    "outputId": "9a4ffa22-e792-4bb0-d75d-6c11109f7ee0"
   },
   "outputs": [],
   "source": [
    "# start with a string\n",
    "before = \"This is the euro symbol: €\"\n",
    "\n",
    "# check to see what datatype it is\n",
    "type(before)"
   ]
  },
  {
   "cell_type": "code",
   "execution_count": null,
   "metadata": {
    "colab": {
     "base_uri": "https://localhost:8080/",
     "height": 34
    },
    "colab_type": "code",
    "id": "ISgFFMiiIXTc",
    "outputId": "b7565a62-ad57-4f86-fab5-51846579acf4"
   },
   "outputs": [],
   "source": [
    "# encode it to a different encoding, replacing characters that raise errors\n",
    "after = before.encode(\"utf-8\", errors = \"replace\")\n",
    "\n",
    "# check the type\n",
    "type(after)"
   ]
  },
  {
   "cell_type": "code",
   "execution_count": null,
   "metadata": {
    "colab": {
     "base_uri": "https://localhost:8080/",
     "height": 34
    },
    "colab_type": "code",
    "id": "psYCTaZCIXTe",
    "outputId": "9e1e2a5f-c069-4d55-8f67-3e513d0fd721"
   },
   "outputs": [],
   "source": [
    "# take a look at what the bytes look like\n",
    "after"
   ]
  },
  {
   "cell_type": "code",
   "execution_count": null,
   "metadata": {
    "colab": {
     "base_uri": "https://localhost:8080/",
     "height": 34
    },
    "colab_type": "code",
    "id": "fkbXONwzIXTf",
    "outputId": "d887c0f7-be63-4443-c42c-484740f198fe"
   },
   "outputs": [],
   "source": [
    "# convert it back to utf-8\n",
    "print(after.decode(\"utf-8\"))"
   ]
  },
  {
   "cell_type": "code",
   "execution_count": null,
   "metadata": {
    "colab": {
     "base_uri": "https://localhost:8080/",
     "height": 164
    },
    "colab_type": "code",
    "id": "YeEGsG5pIXTh",
    "outputId": "b8a83033-be08-479a-a4da-313e898e4891"
   },
   "outputs": [],
   "source": [
    "# try to decode our bytes with the ascii encoding\n",
    "print(after.decode(\"ascii\"))"
   ]
  },
  {
   "cell_type": "code",
   "execution_count": null,
   "metadata": {
    "colab": {
     "base_uri": "https://localhost:8080/",
     "height": 34
    },
    "colab_type": "code",
    "id": "3RRKGvArIXTk",
    "outputId": "f1aa113f-7489-40f6-ad58-591770a2dbbe"
   },
   "outputs": [],
   "source": [
    "# start with a string\n",
    "before = \"This is the euro symbol: €\"\n",
    "\n",
    "# encode it to a different encoding, replacing characters that raise errors\n",
    "after = before.encode(\"ascii\", errors = \"replace\")\n",
    "\n",
    "# convert it back to utf-8\n",
    "print(after.decode(\"ascii\"))\n",
    "\n",
    "# We've lost the original underlying byte string! It's been \n",
    "# replaced with the underlying byte string for the unknown character :("
   ]
  },
  {
   "cell_type": "markdown",
   "metadata": {
    "colab_type": "text",
    "id": "IkaMZurZIXTm"
   },
   "source": [
    "Este error ya lo vimos..."
   ]
  },
  {
   "cell_type": "code",
   "execution_count": null,
   "metadata": {
    "colab": {
     "base_uri": "https://localhost:8080/",
     "height": 800
    },
    "colab_type": "code",
    "id": "vmfM_HNWIXTn",
    "outputId": "63049057-280f-429b-b30d-118919d77548"
   },
   "outputs": [],
   "source": [
    "kickstarter_2016 = pd.read_csv(BASE_DIR + \"/input/kickstarter-projects/ks-projects-201612.csv\")"
   ]
  },
  {
   "cell_type": "markdown",
   "metadata": {
    "colab_type": "text",
    "id": "PP9Xzf3qIXTt"
   },
   "source": [
    "El error `UnicodeDecodeError` nos indica que el archivo no estaría en Unicode. Si no está en algún metadato o no fue indicado es dificil detectar el encoding, por suerte hay un paquete para esto en Python, que aplica unas heurísticas para detectar encoding."
   ]
  },
  {
   "cell_type": "code",
   "execution_count": null,
   "metadata": {
    "colab": {
     "base_uri": "https://localhost:8080/",
     "height": 306
    },
    "colab_type": "code",
    "id": "KVSigmfDIXTv",
    "outputId": "21ac2cca-8522-4b51-f71e-cbb4bd1d9ec0"
   },
   "outputs": [],
   "source": [
    "# In Colab we need to download data locally\n",
    "if in_colab:\n",
    "  !wget -c $BASE_DIR/input/kickstarter-projects/ks-projects-201612.csv\n",
    "  DOWN_DIR = \"./\"\n",
    "else:\n",
    "  DOWN_DIR = BASE_DIR + \"/input/kickstarter-projects/\"\n",
    "  \n",
    "# look at the first ten thousand bytes to guess the character encoding\n",
    "with open(DOWN_DIR + \"/ks-projects-201612.csv\", 'rb') as rawdata:\n",
    "    result = chardet.detect(rawdata.read(10000))\n",
    "\n",
    "# check what the character encoding might be\n",
    "result"
   ]
  },
  {
   "cell_type": "markdown",
   "metadata": {
    "colab_type": "text",
    "id": "BRvRjn15IXTy"
   },
   "source": [
    "Entonces le podemos indicar el encoding al leer el archivos"
   ]
  },
  {
   "cell_type": "code",
   "execution_count": null,
   "metadata": {
    "colab": {
     "base_uri": "https://localhost:8080/",
     "height": 340
    },
    "colab_type": "code",
    "id": "HpHQldSDIXTz",
    "outputId": "2bcd5bf7-63cd-4a0c-a034-570a4eca9af2"
   },
   "outputs": [],
   "source": [
    "# read in the file with the encoding detected by chardet\n",
    "kickstarter_2016 = pd.read_csv(BASE_DIR + \"/input/kickstarter-projects/ks-projects-201612.csv\", encoding='Windows-1252')\n",
    "\n",
    "# look at the first few lines\n",
    "kickstarter_2016.head()"
   ]
  },
  {
   "cell_type": "markdown",
   "metadata": {
    "colab_type": "text",
    "id": "EaBiRboHIXT6"
   },
   "source": [
    "Hay otro problema con los caracteres que es más sutíl: **[Mojibake](https://en.wikipedia.org/wiki/Mojibake)**\n",
    "\n",
    "Sucede al leer UTF-8 como ASCII extendido (ie. `Windows-*`, `iso-8859-*` entre otros)\n",
    "\n",
    "Ejemplo de mojibake:"
   ]
  },
  {
   "cell_type": "code",
   "execution_count": null,
   "metadata": {
    "colab": {
     "base_uri": "https://localhost:8080/",
     "height": 34
    },
    "colab_type": "code",
    "id": "5dFhIonJIXT6",
    "outputId": "11408e32-6f3d-4609-9eef-b7d9659c479a"
   },
   "outputs": [],
   "source": [
    "\"cigüeña\".encode('utf-8').decode('iso-8859-1')"
   ]
  },
  {
   "cell_type": "markdown",
   "metadata": {
    "colab_type": "text",
    "id": "GYrNcEWGIXT8"
   },
   "source": [
    "Para esto vamos a usar un módulo específico [ftfy](https://ftfy.readthedocs.io/en/latest/). \n",
    "\n",
    "Que nos permite ordenar cadenas por rareza"
   ]
  },
  {
   "cell_type": "code",
   "execution_count": null,
   "metadata": {
    "colab": {},
    "colab_type": "code",
    "id": "iKpvvruQIXT8"
   },
   "outputs": [],
   "source": [
    "import ftfy.badness as bad"
   ]
  },
  {
   "cell_type": "code",
   "execution_count": null,
   "metadata": {
    "colab": {
     "base_uri": "https://localhost:8080/",
     "height": 1345
    },
    "colab_type": "code",
    "id": "qRTGjyZ-IXT-",
    "outputId": "0ba0a077-6a0f-415b-beab-70dc792b6df9"
   },
   "outputs": [],
   "source": [
    "def weird(val):\n",
    "    if isinstance(val, float): \n",
    "        return 0\n",
    "    return bad.sequence_weirdness(val)\n",
    "\n",
    "\n",
    "kickstarter_2018['name_weirdness'] = kickstarter_2018['name'].apply(weird)\n",
    "kickstarter_2018[kickstarter_2018['name_weirdness'] > 1]"
   ]
  },
  {
   "cell_type": "markdown",
   "metadata": {
    "colab_type": "text",
    "id": "IWvV8C1LIXUA"
   },
   "source": [
    "Volviendo a la consigna original, chequeamos que no haya caracteres fuera de a-Z, 0-9 y _ en los nombres de columnas"
   ]
  },
  {
   "cell_type": "code",
   "execution_count": null,
   "metadata": {
    "colab": {
     "base_uri": "https://localhost:8080/",
     "height": 34
    },
    "colab_type": "code",
    "id": "dll59dNxIXUA",
    "outputId": "d6fea973-d48c-446b-904c-68cd07f7ba22"
   },
   "outputs": [],
   "source": [
    "kickstarter_2018.columns[~kickstarter_2018.columns.str.match(r'^(\\w+)$')]"
   ]
  },
  {
   "cell_type": "code",
   "execution_count": null,
   "metadata": {
    "colab": {
     "base_uri": "https://localhost:8080/",
     "height": 283
    },
    "colab_type": "code",
    "id": "QvhxXo1xIXUE",
    "outputId": "274d4ab1-cd17-4ef3-fcf7-a99c36b418b8"
   },
   "outputs": [],
   "source": [
    "kickstarter_2018.usd_pledged.head()"
   ]
  },
  {
   "cell_type": "code",
   "execution_count": null,
   "metadata": {
    "colab": {
     "base_uri": "https://localhost:8080/",
     "height": 320
    },
    "colab_type": "code",
    "id": "qq6sydy8IXUG",
    "outputId": "d6175b2a-d48d-4302-bc2c-2561ebfb2e8b",
    "scrolled": true
   },
   "outputs": [],
   "source": [
    "kickstarter_2018.columns = kickstarter_2018.columns.str.replace(' ', '_')\n",
    "kickstarter_2018.head()"
   ]
  },
  {
   "cell_type": "code",
   "execution_count": null,
   "metadata": {
    "colab": {
     "base_uri": "https://localhost:8080/",
     "height": 136
    },
    "colab_type": "code",
    "id": "O92pigy9IXUH",
    "outputId": "7c037315-3226-407c-ef1e-180a0a833490"
   },
   "outputs": [],
   "source": [
    "kickstarter_2018.usd_pledged.head()"
   ]
  },
  {
   "cell_type": "markdown",
   "metadata": {},
   "source": [
    "#### Ejercicio 3\n",
    "\n",
    "Comparar la cantidad de nombres raros en kickstarter_2018 con la que obtenemos al cargar 'ks-projects-201801.csv' con encoding iso-8859-1."
   ]
  },
  {
   "cell_type": "markdown",
   "metadata": {
    "colab_type": "text",
    "id": "ahRhnkZ7IXUI"
   },
   "source": [
    "## 2.2. Tratar valores faltantes\n",
    "\n",
    "Veamos cuantos valores nulos tenemos"
   ]
  },
  {
   "cell_type": "code",
   "execution_count": null,
   "metadata": {
    "colab": {
     "base_uri": "https://localhost:8080/",
     "height": 68
    },
    "colab_type": "code",
    "id": "UkbDCMZtIXUJ",
    "outputId": "d36346da-cc9b-4415-a256-fc748a51e829",
    "scrolled": true
   },
   "outputs": [],
   "source": [
    "# get the number of missing data points per column\n",
    "missing_values_count = kickstarter_2018.isnull().sum()\n",
    "\n",
    "# look at the # of missing points in the first ten columns\n",
    "missing_values_count[missing_values_count > 0]"
   ]
  },
  {
   "cell_type": "markdown",
   "metadata": {},
   "source": [
    "Esta medida en sí, no dice nada más que con cuantos valores debemos lidiar. \n",
    "\n",
    "Primero tenemos que ver si en términos relativos su impacto."
   ]
  },
  {
   "cell_type": "code",
   "execution_count": null,
   "metadata": {
    "colab": {
     "base_uri": "https://localhost:8080/",
     "height": 34
    },
    "colab_type": "code",
    "id": "1WC9vl6mIXUK",
    "outputId": "3bf2bc45-1574-4d25-c367-9d060ecbf213"
   },
   "outputs": [],
   "source": [
    "len(kickstarter_2018.dropna())/len(kickstarter_2018)"
   ]
  },
  {
   "cell_type": "code",
   "execution_count": null,
   "metadata": {
    "colab": {
     "base_uri": "https://localhost:8080/",
     "height": 34
    },
    "colab_type": "code",
    "id": "eqv839nVIXUN",
    "outputId": "b3bcb873-de86-4518-8f97-a141bf0a8ee2"
   },
   "outputs": [],
   "source": [
    "len(kickstarter_2018.dropna(subset=['name']))/len(kickstarter_2018)"
   ]
  },
  {
   "cell_type": "markdown",
   "metadata": {},
   "source": [
    "También debemos ver que significan en términos de representatividad e importancia de nuestro análisis."
   ]
  },
  {
   "cell_type": "code",
   "execution_count": null,
   "metadata": {
    "colab": {
     "base_uri": "https://localhost:8080/",
     "height": 204
    },
    "colab_type": "code",
    "id": "2Aa4DZm1IXUO",
    "outputId": "93ae971f-c2a5-45f6-f9a6-b16fb8a5e844"
   },
   "outputs": [],
   "source": [
    "kickstarter_2018[kickstarter_2018.name.isnull()]"
   ]
  },
  {
   "cell_type": "markdown",
   "metadata": {},
   "source": [
    "Ejemplo, cuantos de los proyectos suspendidos no tienen nombre"
   ]
  },
  {
   "cell_type": "code",
   "execution_count": null,
   "metadata": {},
   "outputs": [],
   "source": [
    "len(kickstarter_2018[kickstarter_2018.state == 'suspended'].dropna(subset=['name'])) / \\\n",
    "    len(kickstarter_2018[kickstarter_2018.state == 'suspended'])"
   ]
  },
  {
   "cell_type": "markdown",
   "metadata": {},
   "source": [
    "En este caso, creemos que es seguro descartar los proyectos sin nombre"
   ]
  },
  {
   "cell_type": "code",
   "execution_count": null,
   "metadata": {
    "colab": {},
    "colab_type": "code",
    "id": "7ig47EETIXUP"
   },
   "outputs": [],
   "source": [
    "kickstarter_2018 = kickstarter_2018.dropna(subset=['name'])"
   ]
  },
  {
   "cell_type": "code",
   "execution_count": null,
   "metadata": {
    "colab": {
     "base_uri": "https://localhost:8080/",
     "height": 51
    },
    "colab_type": "code",
    "id": "_mguXGJ7IXUQ",
    "outputId": "1dfb6e32-f432-4e44-b738-d99af0d475af"
   },
   "outputs": [],
   "source": [
    "missing_values_count = kickstarter_2018.isnull().sum()\n",
    "missing_values_count[missing_values_count > 0]"
   ]
  },
  {
   "cell_type": "code",
   "execution_count": null,
   "metadata": {
    "colab": {
     "base_uri": "https://localhost:8080/",
     "height": 3020
    },
    "colab_type": "code",
    "id": "Xi85q0ytIXUR",
    "outputId": "524ed410-bde2-423f-dcd5-991af88b6d93",
    "scrolled": true
   },
   "outputs": [],
   "source": [
    "kickstarter_2018[kickstarter_2018.usd_pledged.isnull()]"
   ]
  },
  {
   "cell_type": "code",
   "execution_count": null,
   "metadata": {
    "colab": {
     "base_uri": "https://localhost:8080/",
     "height": 503
    },
    "colab_type": "code",
    "id": "hIHOdVWuIXUU",
    "outputId": "a0d80c14-4daa-4a76-b320-caa884d79b84"
   },
   "outputs": [],
   "source": [
    "kickstarter_2018[kickstarter_2018.usd_pledged.isnull()].describe(include='all')"
   ]
  },
  {
   "cell_type": "markdown",
   "metadata": {},
   "source": [
    "Interesante, todos los datos pertenecen a un país indeterminado.\n",
    "\n",
    "Todos los datos de ese \"país\" no tienen dinero prometido?"
   ]
  },
  {
   "cell_type": "code",
   "execution_count": null,
   "metadata": {
    "colab": {
     "base_uri": "https://localhost:8080/",
     "height": 80
    },
    "colab_type": "code",
    "id": "V1fJwrLFIXUW",
    "outputId": "0a6d1cf9-6e63-4da3-a7f9-d94f56ecc11e"
   },
   "outputs": [],
   "source": [
    "kickstarter_2018[(kickstarter_2018.country == 'N,0\"') & ~(kickstarter_2018.usd_pledged.isnull())].head()"
   ]
  },
  {
   "cell_type": "markdown",
   "metadata": {},
   "source": [
    "A priori como los proyectos no tienen patrocinantes, completamos en 0 los valores"
   ]
  },
  {
   "cell_type": "code",
   "execution_count": null,
   "metadata": {
    "colab": {
     "base_uri": "https://localhost:8080/",
     "height": 34
    },
    "colab_type": "code",
    "id": "GRx81S7wIXUX",
    "outputId": "03b695a4-f982-4eb4-b42a-7a4e788cf943"
   },
   "outputs": [],
   "source": [
    "kickstarter_2018 = kickstarter_2018.fillna(0)\n",
    "missing_values_count = kickstarter_2018.isnull().sum()\n",
    "missing_values_count[missing_values_count > 0]"
   ]
  },
  {
   "cell_type": "code",
   "execution_count": null,
   "metadata": {},
   "outputs": [],
   "source": [
    "kickstarter_2018.shape"
   ]
  },
  {
   "cell_type": "markdown",
   "metadata": {
    "colab_type": "text",
    "id": "kMX1NiqXIXUY"
   },
   "source": [
    "Más métodos disponibles en https://pandas.pydata.org/pandas-docs/stable/api.html#api-dataframe-missing y http://scikit-learn.org/stable/modules/classes.html#module-sklearn.preprocessing"
   ]
  },
  {
   "cell_type": "markdown",
   "metadata": {
    "colab_type": "text",
    "id": "wg5g7VivIXUY"
   },
   "source": [
    "## 2.3. Codificar variables\n",
    "\n",
    "Para trabajar con los algoritmos de aprendizaje automático, las variables categóricas estas deben ser codificadas como variables numéricas, no como cadenas.\n",
    "\n",
    "Para esta tarea también hay diferentes estrategias, dos comunes son: asociar cadena a número y asociar cadena a columna."
   ]
  },
  {
   "cell_type": "code",
   "execution_count": null,
   "metadata": {
    "colab": {},
    "colab_type": "code",
    "id": "vSA_t4gkIXUY"
   },
   "outputs": [],
   "source": [
    "from sklearn import preprocessing"
   ]
  },
  {
   "cell_type": "code",
   "execution_count": null,
   "metadata": {
    "colab": {
     "base_uri": "https://localhost:8080/",
     "height": 173
    },
    "colab_type": "code",
    "id": "64TDAVR9IXUZ",
    "outputId": "727227ad-831f-4dc7-81d5-ae6ff6d1e864"
   },
   "outputs": [],
   "source": [
    "kickstarter_2018.describe(include=['O'])"
   ]
  },
  {
   "cell_type": "code",
   "execution_count": null,
   "metadata": {
    "colab": {
     "base_uri": "https://localhost:8080/",
     "height": 34
    },
    "colab_type": "code",
    "id": "Furd8rzbIXUa",
    "outputId": "283bc357-ca50-48db-e52d-70bf49c94999"
   },
   "outputs": [],
   "source": [
    "column='main_category'\n",
    "# Create a label (category) encoder object\n",
    "le = preprocessing.LabelEncoder()\n",
    "# Fit the encoder to the pandas column\n",
    "le.fit(kickstarter_2018[column])"
   ]
  },
  {
   "cell_type": "code",
   "execution_count": null,
   "metadata": {
    "colab": {
     "base_uri": "https://localhost:8080/",
     "height": 272
    },
    "colab_type": "code",
    "id": "cit8woaJIXUb",
    "outputId": "d14afbbe-48da-444d-8b38-6704a5e33bdb"
   },
   "outputs": [],
   "source": [
    "# View encoder mapping\n",
    "dict(zip(le.classes_,le.transform(le.classes_)))"
   ]
  },
  {
   "cell_type": "code",
   "execution_count": null,
   "metadata": {
    "colab": {
     "base_uri": "https://localhost:8080/",
     "height": 320
    },
    "colab_type": "code",
    "id": "ugnDG6WNIXUc",
    "outputId": "a536dada-2601-40b0-bb2e-7565d4a924d4"
   },
   "outputs": [],
   "source": [
    "# Apply the fitted encoder to the pandas column\n",
    "kickstarter_2018[column] = le.transform(kickstarter_2018[column]) \n",
    "kickstarter_2018.head()"
   ]
  },
  {
   "cell_type": "code",
   "execution_count": null,
   "metadata": {
    "colab": {
     "base_uri": "https://localhost:8080/",
     "height": 320
    },
    "colab_type": "code",
    "id": "04eBH7hoIXUd",
    "outputId": "327ca7dd-3980-4037-c730-79092375407a"
   },
   "outputs": [],
   "source": [
    "# Reversing encoding\n",
    "kickstarter_2018[column] = le.inverse_transform(kickstarter_2018[column]) \n",
    "kickstarter_2018.head()"
   ]
  },
  {
   "cell_type": "code",
   "execution_count": null,
   "metadata": {
    "colab": {
     "base_uri": "https://localhost:8080/",
     "height": 359
    },
    "colab_type": "code",
    "id": "CwNKqbgbIXUd",
    "outputId": "d50111ef-7fe6-4fc6-f6cc-3425b21c3098"
   },
   "outputs": [],
   "source": [
    "from sklearn.preprocessing import LabelBinarizer\n",
    "other_column = 'state'\n",
    "\n",
    "lb = LabelBinarizer()\n",
    "\n",
    "lb_results = lb.fit_transform(kickstarter_2018[other_column])\n",
    "pd.DataFrame(lb_results, columns=((other_column + '_') + pd.Series(lb.classes_))).head(10)"
   ]
  },
  {
   "cell_type": "markdown",
   "metadata": {
    "colab_type": "text",
    "id": "8N1YbkwSIXUe"
   },
   "source": [
    "More about preprocessing in http://scikit-learn.org/stable/modules/classes.html#module-sklearn.preprocessing"
   ]
  },
  {
   "cell_type": "markdown",
   "metadata": {},
   "source": [
    "#### Ejercicio 4\n",
    "\n",
    "Codificar `currency` con ambas estrategias"
   ]
  },
  {
   "cell_type": "markdown",
   "metadata": {
    "colab_type": "text",
    "id": "c2qVOSsQIXUf"
   },
   "source": [
    "## 2.4. No cambiar los nombres de las variables de la fuente de origen\n"
   ]
  },
  {
   "cell_type": "markdown",
   "metadata": {
    "colab_type": "text",
    "id": "k9XvL-yMIXUf"
   },
   "source": [
    "## 2.5. Verificar la consistencia de las variables\n",
    "Aplicar reglas de integridad\n"
   ]
  },
  {
   "cell_type": "code",
   "execution_count": null,
   "metadata": {
    "colab": {
     "base_uri": "https://localhost:8080/",
     "height": 320
    },
    "colab_type": "code",
    "id": "y5W24vJwIXUf",
    "outputId": "251b5a15-f3a7-4155-bce2-8a2a2ee1d837"
   },
   "outputs": [],
   "source": [
    "kickstarter_2018.head()"
   ]
  },
  {
   "cell_type": "markdown",
   "metadata": {
    "colab_type": "text",
    "id": "4EAwb-5BIXUh"
   },
   "source": [
    "¿Hay proyectos sin patrocinadores pero con plata prometida?"
   ]
  },
  {
   "cell_type": "code",
   "execution_count": null,
   "metadata": {
    "colab": {
     "base_uri": "https://localhost:8080/",
     "height": 3020
    },
    "colab_type": "code",
    "id": "x0YWqWntIXUh",
    "outputId": "a9702107-e115-44d7-a76e-0bd59ab1d2a5"
   },
   "outputs": [],
   "source": [
    "kickstarter_2018[(kickstarter_2018.backers == 0) & (kickstarter_2018.usd_pledged > 0)]"
   ]
  },
  {
   "cell_type": "markdown",
   "metadata": {
    "colab_type": "text",
    "id": "8oFs6r9CIXUj"
   },
   "source": [
    "¿Hay proyecto no exitosos que pasaron el objetivo?"
   ]
  },
  {
   "cell_type": "code",
   "execution_count": null,
   "metadata": {
    "colab": {
     "base_uri": "https://localhost:8080/",
     "height": 3037
    },
    "colab_type": "code",
    "id": "_5lPvwqYIXUj",
    "outputId": "f432680c-543b-4d52-9eb4-35bc293e714e"
   },
   "outputs": [],
   "source": [
    "kickstarter_2018[(kickstarter_2018.state != 'successful') & (kickstarter_2018.pledged > kickstarter_2018.goal)]"
   ]
  },
  {
   "cell_type": "markdown",
   "metadata": {
    "colab_type": "text",
    "id": "JcmsJSYXIXUl"
   },
   "source": [
    "¿Cómo es, en promedio, la correlación entre el objetivo y la plata obtenida?"
   ]
  },
  {
   "cell_type": "code",
   "execution_count": null,
   "metadata": {
    "colab": {
     "base_uri": "https://localhost:8080/",
     "height": 266
    },
    "colab_type": "code",
    "id": "vAI0_9m-IXUl",
    "outputId": "4d83d960-b7f4-4a52-e101-eeaff781f207"
   },
   "outputs": [],
   "source": [
    "df = kickstarter_2018.groupby('state')[['goal','pledged']].aggregate('mean')\n",
    "df['pledged'] / df['goal']"
   ]
  },
  {
   "cell_type": "markdown",
   "metadata": {
    "colab_type": "text",
    "id": "0alq6UDrIXUn"
   },
   "source": [
    "¿Cuánta plata se obtiene en promedio por estado y categoría?"
   ]
  },
  {
   "cell_type": "code",
   "execution_count": null,
   "metadata": {
    "colab": {
     "base_uri": "https://localhost:8080/",
     "height": 266
    },
    "colab_type": "code",
    "id": "ZDDTnENBIXUn",
    "outputId": "0008cab9-4365-41a5-fa9f-b4e9dac4e7ba"
   },
   "outputs": [],
   "source": [
    "kickstarter_2018.pivot_table(values='usd_pledged',index='state',columns='main_category')"
   ]
  },
  {
   "cell_type": "markdown",
   "metadata": {},
   "source": [
    "#### Ejercicio 5\n",
    "\n",
    "1. ¿Hay proyecto éxitosos que no consiguieron el objetivo? Si hay, ¿Qué porcentaje sí y cuál no?\n",
    "2. Calcular una tabla con la cantidad de proyectos por categoría principal y estado."
   ]
  },
  {
   "cell_type": "markdown",
   "metadata": {
    "colab_type": "text",
    "id": "3ci4iq7MIXUq"
   },
   "source": [
    "## 2.6. Identificar y documentar valores atípicos/outliers\n"
   ]
  },
  {
   "cell_type": "markdown",
   "metadata": {
    "colab_type": "text",
    "id": "CFiuuPAlIXUq"
   },
   "source": [
    "Queremos analizar las características de los proyectos que obtienen dinero pero sin considerar los casos atípicos."
   ]
  },
  {
   "cell_type": "code",
   "execution_count": null,
   "metadata": {
    "colab": {
     "base_uri": "https://localhost:8080/",
     "height": 299
    },
    "colab_type": "code",
    "id": "krohU7VxIXUq",
    "outputId": "bd6552ce-322e-4b09-fb31-fb13ad2bffa1"
   },
   "outputs": [],
   "source": [
    "%matplotlib inline\n",
    "kickstarter_2018.usd_pledged.hist();"
   ]
  },
  {
   "cell_type": "code",
   "execution_count": null,
   "metadata": {
    "colab": {
     "base_uri": "https://localhost:8080/",
     "height": 294
    },
    "colab_type": "code",
    "id": "4KNUgM_xIXUr",
    "outputId": "1c71222e-4be8-43b6-a0a9-15aad2567016"
   },
   "outputs": [],
   "source": [
    "kickstarter_2018.boxplot(column='usd_pledged');"
   ]
  },
  {
   "cell_type": "markdown",
   "metadata": {
    "colab_type": "text",
    "id": "2JzBu_TmIXUw"
   },
   "source": [
    "\"There are many rules of thumb for how to define an outlier but there is no silver bullet. One rule of thumb is that any data point that is three standard deviations away from the mean of the same data point for all observations.\""
   ]
  },
  {
   "cell_type": "code",
   "execution_count": null,
   "metadata": {
    "colab": {
     "base_uri": "https://localhost:8080/",
     "height": 3088
    },
    "colab_type": "code",
    "id": "crqXG6cQIXUx",
    "outputId": "af30db2b-96fc-4ded-afbe-c2583ea86d5f"
   },
   "outputs": [],
   "source": [
    "outliers = kickstarter_2018[kickstarter_2018.usd_pledged > (kickstarter_2018.usd_pledged.mean() + \n",
    "                                                            3 * kickstarter_2018.usd_pledged.std())]\n",
    "outliers"
   ]
  },
  {
   "cell_type": "code",
   "execution_count": null,
   "metadata": {},
   "outputs": [],
   "source": [
    "kickstarter_2018.drop(outliers.index).boxplot(column='usd_pledged');"
   ]
  },
  {
   "cell_type": "code",
   "execution_count": null,
   "metadata": {
    "colab": {
     "base_uri": "https://localhost:8080/",
     "height": 318
    },
    "colab_type": "code",
    "id": "GUIlg7xXIXUz",
    "outputId": "e16433c9-d25e-43bf-bad0-93ea16572fb4"
   },
   "outputs": [],
   "source": [
    "kickstarter_2018.drop(outliers.index).boxplot(column='usd_pledged',by='state');"
   ]
  },
  {
   "cell_type": "markdown",
   "metadata": {},
   "source": [
    "Analizar outliers por categorías"
   ]
  },
  {
   "cell_type": "code",
   "execution_count": null,
   "metadata": {
    "colab": {
     "base_uri": "https://localhost:8080/",
     "height": 318
    },
    "colab_type": "code",
    "id": "Q3sawM-JIXUx",
    "outputId": "06ecba4e-1c03-47fe-8ee0-efb68c166309"
   },
   "outputs": [],
   "source": [
    "kickstarter_2018.boxplot(column='usd_pledged',by='state');\n",
    "kickstarter_2018.boxplot(column='usd_goal_real',by='state');"
   ]
  },
  {
   "cell_type": "markdown",
   "metadata": {},
   "source": [
    "#### Ejercicio 6\n",
    "\n",
    "Calcular los valores atípicos de 'usd_goal_real' y graficar los boxplots, con y sin estos valores por categoría"
   ]
  },
  {
   "cell_type": "markdown",
   "metadata": {
    "colab_type": "text",
    "id": "oGI_4tR0IXUz"
   },
   "source": [
    "## 2.7. Evaluar cómo comprimir los datos \n",
    "para su almacenamiento más eficiente.\n",
    "\n",
    "En la actualidad, en las nubes el almacenamiento no suele ser problema sino la velocidad para leerlo que suele ser determinante a la hora de determinar el formato de almacenamiento.\n"
   ]
  },
  {
   "cell_type": "markdown",
   "metadata": {
    "colab_type": "text",
    "id": "9y8QxZwdIXU0"
   },
   "source": [
    "## 2.8. Guardar el set de datos con un nombre informativo.\n"
   ]
  },
  {
   "cell_type": "markdown",
   "metadata": {
    "colab_type": "text",
    "id": "3aaOkntbIXU0"
   },
   "source": [
    "EL problema de la ingeniería de software"
   ]
  }
 ],
 "metadata": {
  "colab": {
   "name": "1. Importando los datos.ipynb",
   "provenance": [],
   "version": "0.3.2"
  },
  "kernelspec": {
   "display_name": "Python 3",
   "language": "python",
   "name": "python3"
  },
  "language_info": {
   "codemirror_mode": {
    "name": "ipython",
    "version": 3
   },
   "file_extension": ".py",
   "mimetype": "text/x-python",
   "name": "python",
   "nbconvert_exporter": "python",
   "pygments_lexer": "ipython3",
   "version": "3.6.10"
  }
 },
 "nbformat": 4,
 "nbformat_minor": 4
}
